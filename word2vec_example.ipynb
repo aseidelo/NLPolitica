{
 "cells": [
  {
   "cell_type": "code",
   "execution_count": 1,
   "metadata": {},
   "outputs": [],
   "source": [
    "import pandas as pd\n",
    "from gensim.models import KeyedVectors\n",
    "from nltk.corpus import stopwords\n",
    "#nltk.download('stopwords')\n",
    "from nltk.tokenize import word_tokenize"
   ]
  },
  {
   "cell_type": "code",
   "execution_count": 21,
   "metadata": {},
   "outputs": [
    {
     "name": "stdout",
     "output_type": "stream",
     "text": [
      "32\n"
     ]
    },
    {
     "data": {
      "text/html": [
       "<div>\n",
       "<style scoped>\n",
       "    .dataframe tbody tr th:only-of-type {\n",
       "        vertical-align: middle;\n",
       "    }\n",
       "\n",
       "    .dataframe tbody tr th {\n",
       "        vertical-align: top;\n",
       "    }\n",
       "\n",
       "    .dataframe thead th {\n",
       "        text-align: right;\n",
       "    }\n",
       "</style>\n",
       "<table border=\"1\" class=\"dataframe\">\n",
       "  <thead>\n",
       "    <tr style=\"text-align: right;\">\n",
       "      <th></th>\n",
       "      <th>author</th>\n",
       "      <th>description</th>\n",
       "      <th>title</th>\n",
       "      <th>url</th>\n",
       "    </tr>\n",
       "  </thead>\n",
       "  <tbody>\n",
       "    <tr>\n",
       "      <th>0</th>\n",
       "      <td>Luís Marques Mendes (PSD)</td>\n",
       "      <td>Sobre a Agenda 2000</td>\n",
       "      <td>Projeto de Resolução 123/VII</td>\n",
       "      <td>https://www.parlamento.pt/ActividadeParlamenta...</td>\n",
       "    </tr>\n",
       "    <tr>\n",
       "      <th>1</th>\n",
       "      <td>Luís Queiró (CDS-PP),Gonçalo Ribeiro da Costa ...</td>\n",
       "      <td>Conselhos municipais de acção social</td>\n",
       "      <td>Projeto de Lei 637/VII</td>\n",
       "      <td>https://www.parlamento.pt/ActividadeParlamenta...</td>\n",
       "    </tr>\n",
       "    <tr>\n",
       "      <th>2</th>\n",
       "      <td>Pimenta Dias (PCP),Joaquim Matias (PCP),João A...</td>\n",
       "      <td>Isenta de emolumentos a apreciação das contas ...</td>\n",
       "      <td>Projeto de Lei 624/VII</td>\n",
       "      <td>https://www.parlamento.pt/ActividadeParlamenta...</td>\n",
       "    </tr>\n",
       "    <tr>\n",
       "      <th>3</th>\n",
       "      <td>Luís Queiró (CDS-PP),Sílvio Rui Cervan (CDS-PP...</td>\n",
       "      <td>Pronuncia, acompanhamento e apreciação pela As...</td>\n",
       "      <td>Projeto de Lei 625/VII</td>\n",
       "      <td>https://www.parlamento.pt/ActividadeParlamenta...</td>\n",
       "    </tr>\n",
       "    <tr>\n",
       "      <th>4</th>\n",
       "      <td>Luís Queiró (CDS-PP)</td>\n",
       "      <td>Decreto-lei n° 15/99,de 15 de Janeiro, que\"reg...</td>\n",
       "      <td>Apreciação Parlamentar 82/VII</td>\n",
       "      <td>https://www.parlamento.pt/ActividadeParlamenta...</td>\n",
       "    </tr>\n",
       "  </tbody>\n",
       "</table>\n",
       "</div>"
      ],
      "text/plain": [
       "                                              author  \\\n",
       "0                          Luís Marques Mendes (PSD)   \n",
       "1  Luís Queiró (CDS-PP),Gonçalo Ribeiro da Costa ...   \n",
       "2  Pimenta Dias (PCP),Joaquim Matias (PCP),João A...   \n",
       "3  Luís Queiró (CDS-PP),Sílvio Rui Cervan (CDS-PP...   \n",
       "4                               Luís Queiró (CDS-PP)   \n",
       "\n",
       "                                         description  \\\n",
       "0                                Sobre a Agenda 2000   \n",
       "1               Conselhos municipais de acção social   \n",
       "2  Isenta de emolumentos a apreciação das contas ...   \n",
       "3  Pronuncia, acompanhamento e apreciação pela As...   \n",
       "4  Decreto-lei n° 15/99,de 15 de Janeiro, que\"reg...   \n",
       "\n",
       "                           title  \\\n",
       "0   Projeto de Resolução 123/VII   \n",
       "1         Projeto de Lei 637/VII   \n",
       "2         Projeto de Lei 624/VII   \n",
       "3         Projeto de Lei 625/VII   \n",
       "4  Apreciação Parlamentar 82/VII   \n",
       "\n",
       "                                                 url  \n",
       "0  https://www.parlamento.pt/ActividadeParlamenta...  \n",
       "1  https://www.parlamento.pt/ActividadeParlamenta...  \n",
       "2  https://www.parlamento.pt/ActividadeParlamenta...  \n",
       "3  https://www.parlamento.pt/ActividadeParlamenta...  \n",
       "4  https://www.parlamento.pt/ActividadeParlamenta...  "
      ]
     },
     "execution_count": 21,
     "metadata": {},
     "output_type": "execute_result"
    }
   ],
   "source": [
    "projetos = pd.read_csv('projetos_assembleia.csv')\n",
    "print(len(projetos))\n",
    "projetos.head()"
   ]
  },
  {
   "cell_type": "code",
   "execution_count": 3,
   "metadata": {},
   "outputs": [],
   "source": [
    "# Carrega word2vec12'\n",
    "model = KeyedVectors.load_word2vec_format(\"word2vec_200k.txt\")"
   ]
  },
  {
   "cell_type": "code",
   "execution_count": 4,
   "metadata": {
    "scrolled": true
   },
   "outputs": [
    {
     "name": "stdout",
     "output_type": "stream",
     "text": [
      "[('reabilitação', 0.770971417427063), ('paternidade', 0.7249454855918884), ('orientação', 0.7113212943077087), ('preservação', 0.7078778147697449), ('regeneração', 0.7003017663955688), ('tutoria', 0.6979953646659851), ('preservaã§ã£o', 0.6955472230911255), ('mãe', 0.6948712468147278), ('limpeza', 0.6902233958244324), ('saúde', 0.6888123154640198)]\n",
      "5.960464477539063e-08\n"
     ]
    }
   ],
   "source": [
    "print(model.most_similar(positive=['saude']))\n",
    "print(model.distance('saude', 'saude'))"
   ]
  },
  {
   "cell_type": "code",
   "execution_count": 22,
   "metadata": {},
   "outputs": [
    {
     "name": "stdout",
     "output_type": "stream",
     "text": [
      "['Sobre', 'Agenda', '2000']\n",
      "['Conselhos', 'municipais', 'acção', 'social']\n",
      "['Isenta', 'emolumentos', 'apreciação', 'contas', 'gerência', 'autarquias', 'locais']\n",
      "['Pronuncia', ',', 'acompanhamento', 'apreciação', 'Assembleia', 'República', 'participação', 'Portugal', 'processo', 'construção', 'união', 'europeia']\n",
      "['Decreto-lei', 'n°', '15/99', ',', '15', 'Janeiro', ',', \"''\", 'regula', 'intervenção', 'Estado', 'actividades', 'cinematográficas', 'audiovisual', 'multimédia', \"''\", '.']\n",
      "['Define', 'princípios', 'referência', 'negociação', 'parte', 'portuguesa', 'Agenda', '2000', 'documentos', 'conexos']\n",
      "['Altera', 'regime', 'instalação', 'novos', 'municípios', 'previsto', 'n°', '142/85', ',', '18', 'Novembro', ',', 'situação', 'ocorrência', 'eleições', 'prazo', 'curto']\n",
      "['Elevação', 'categoria', 'vila', 'povoação', 'Santa', 'Luzia', 'município', 'Tavira']\n",
      "['Elevação', 'povoação', 'Alcantarilha', 'concelho', 'Silves', 'categoria', 'vila']\n",
      "['Criação', 'rede', 'publica', 'casas', 'apoio', 'mulheres', 'vitimas', 'violência']\n",
      "['Altera', 'n°', '91/95', ',', '2', 'Setembro', ',', 'áreas', 'urbanas', 'génese', 'ilegal']\n",
      "['Decreto-lei', 'nº', '120/99', ',', '16', 'Abril', ',', '``', 'cria', 'sistema', 'especial', 'controlo', 'fiscalização', 'ambiental', 'co-incineração¿', '.']\n",
      "['Estabelece', 'regras', 'transferência', 'autarquias', 'locais', 'verbas', 'correspondentes', 'aumento', 'despesas', 'pessoal', 'carácter', 'extraordinário']\n",
      "['Elevação', 'categoria', 'vila', 'povoação', 'Ferragudo', 'conselho', 'Lagoa']\n",
      "['Competência', 'câmaras', 'municipais', 'concessão', 'subsídios', 'instituições', 'criadas', 'funcionários', 'administração', 'local', 'carácter', 'social', 'cultural']\n",
      "['Decreto-lei', 'n°', '96/99', ',', '23', 'Março', ',', \"''\", 'revisão', 'conceito', 'trabalho', 'nocturno', ',', 'permitir', 'convenções', 'colectivas', 'reduzem', 'ate', 'sete', 'horas', 'actual', 'duração', 'período', 'trabalho', 'nocturno', 'onze', 'horas', \"''\", '.']\n",
      "['Altera', 'Lei', 'n°14/96', ',', '20', 'Abril', ',', 'alargando', 'capacidade', 'fiscalização', 'exercício', 'função', 'accionista']\n",
      "['Adopta', 'medidas', 'combate', 'propagação', 'doenças', 'infecto', 'contagiosas', 'meio', 'prisional']\n",
      "['Revoga', 'decreto-lei', 'n°', '210/90', ',', '27', 'Junho', 'prorroga', 'prazo', 'ex-funcionários', 'agentes', 'administração', 'pública', 'ex-províncias', 'ultramarinas', 'requererem', 'pensão', 'aposentação', 'prevista', 'Decreto-lei', 'n°363/86', ',', '30', 'Outubro']\n",
      "['Cria', 'Escola', 'Superior', 'Comércio', 'Serviços']\n",
      "['Que', 'destina', 'exortar', 'Governo', 'tomar', 'várias', 'medidas', 'combater', 'crise', 'suinicultura', 'Portugal']\n",
      "['Relativo', 'alteração', 'moldura', 'sancionatória', 'aplicável', 'incumprimento', 'deveres', 'apresentação', 'recenseamento', 'outros', 'deveres', 'conexos']\n",
      "['Adopta', 'medidas', 'clemência', 'comemoração', '25', 'anos', '25', 'Abril']\n",
      "['Aquisição', 'perda', 'nacionalidade', 'portuguesa']\n",
      "['Reforça', 'garantias', 'direito', 'saúde', 'reprodutiva']\n",
      "['Recomenda', 'Governo', ',', 'imediato', 'baixe', 'montante', 'imposto', 'produtos', 'petrolíferos']\n",
      "['Lei', 'protecção', 'animais']\n",
      "['Elevação', 'categoria', 'vila', 'povoação', 'Moita', 'Ferreiros']\n",
      "['Decreto-lei', 'n°', '61/99', '2', 'Março', '``', 'define', 'acesso', 'permanência', 'actividade', 'empreiteiro', 'obras', 'publicas', 'industrial', 'construção', 'civil', '.', 'Revoga', 'decreto-lei', 'n°100/88', '23', 'Março', '.']\n",
      "['Decreto-lei', 'n°', '59/99', '2', 'Março', '``', 'aprova', 'novo', 'regime', 'jurídico', 'empreitadas', 'obras', 'públicas', '.']\n",
      "['Elevação', 'Póvoa', 'Santa', 'Iria', 'cidade']\n",
      "['Apoio', 'aquisição', 'instrumentos', 'musica', 'bandas', 'filarmónicas', 'outras', 'formações', 'musicais']\n"
     ]
    }
   ],
   "source": [
    "def tokenize(text, remove_stop_words=True):\n",
    "    text_tokens = word_tokenize(text)\n",
    "    if(remove_stop_words):\n",
    "        tokens_without_sw = [word for word in text_tokens if not word in stopwords.words()]\n",
    "        return tokens_without_sw\n",
    "    else:\n",
    "        return text_tokens\n",
    "\n",
    "for description in projetos['description']:\n",
    "    tokens = tokenize(description)\n",
    "    print(tokens)"
   ]
  },
  {
   "cell_type": "code",
   "execution_count": 47,
   "metadata": {},
   "outputs": [],
   "source": [
    "def max_AND_similarity(description_tokens, theme_tokens):\n",
    "    max_similarities = []\n",
    "    for theme_token in theme_tokens:\n",
    "        max_similarity = -1.0\n",
    "        for token in description_tokens:\n",
    "            if(token in model and theme_token in model):\n",
    "                new_similarity = model.similarity(token, theme_token)\n",
    "                if (new_similarity > max_similarity):\n",
    "                    max_similarity = new_similarity\n",
    "        if(max_similarity < 0):\n",
    "            max_similarity = 0.\n",
    "        max_similarities.append(max_similarity)\n",
    "    #print(max_similarities)\n",
    "    prob = max_similarities[0]\n",
    "    for sim in max_similarities[1:]:\n",
    "        prob = prob * sim\n",
    "    return prob\n",
    "\n",
    "def max_similarity(description_tokens, theme_tokens):\n",
    "    max_similarity = -1.0\n",
    "    for token in description_tokens:\n",
    "        for theme_token in theme_tokens:\n",
    "            if(token in model and theme_token in model):\n",
    "                new_similarity = model.similarity(token, theme_token)\n",
    "                if (new_similarity > max_similarity):\n",
    "                    max_similarity = new_similarity\n",
    "    return max_similarity\n",
    "\n",
    "def match_similarity(description_tokens, theme_tokens):\n",
    "    found = 0\n",
    "    for theme_token in theme_tokens:\n",
    "        if(theme_token in description_tokens):\n",
    "            found = found + 1\n",
    "    if(found==len(theme_tokens)):\n",
    "        return 1.\n",
    "    else:\n",
    "        return 0.\n",
    "\n",
    "def find_projects(theme, limit=0.8, sim_type='max'):\n",
    "    descriptions = projetos['description']\n",
    "    authors = projetos['author']\n",
    "    titles = projetos['title']\n",
    "    out = []\n",
    "    for i in range(len(titles)):\n",
    "        description_tokens = tokenize(descriptions[i].lower())\n",
    "        theme_tokens = tokenize(theme.lower())\n",
    "        # Word Mover’s Distance\n",
    "        #distance = model.wmdistance(description_tokens, theme_tokens)\n",
    "        # max similarity\n",
    "        similarity = 0.\n",
    "        if(sim_type=='max'):\n",
    "            similarity = max_similarity(description_tokens, theme_tokens)\n",
    "        elif(sim_type=='max_and'):\n",
    "            similarity = max_AND_similarity(description_tokens, theme_tokens)\n",
    "        elif(sim_type=='exact_match'):\n",
    "            similarity = match_similarity(description_tokens, theme_tokens)\n",
    "        #print(descriptions[i], similarity)\n",
    "        if(similarity>=limit):\n",
    "            out.append([similarity, descriptions[i]])\n",
    "    return out\n",
    "        \n"
   ]
  },
  {
   "cell_type": "code",
   "execution_count": 48,
   "metadata": {},
   "outputs": [
    {
     "name": "stdout",
     "output_type": "stream",
     "text": [
      "ATIVIDADE: Decreto-lei n° 15/99,de 15 de Janeiro, que\"regula a intervenção do Estado nas actividades cinematográficas do audiovisual e do multimédia\". | ADERÊNCIA: 0.91\n",
      "ATIVIDADE: Decreto-lei n° 61/99 de 2 de Março que \"define o acesso e permanência na actividade de empreiteiro de obras publicas e industrial de construção civil. Revoga o decreto-lei n°100/88 de 23 de Março. | ADERÊNCIA: 1.00\n",
      "ATIVIDADE: Decreto-lei n° 59/99 de 2 de Março que \"aprova o novo regime jurídico das empreitadas de obras públicas. | ADERÊNCIA: 1.00\n",
      "----------------------------------------\n",
      "ATIVIDADE: Decreto-lei n° 61/99 de 2 de Março que \"define o acesso e permanência na actividade de empreiteiro de obras publicas e industrial de construção civil. Revoga o decreto-lei n°100/88 de 23 de Março. | ADERÊNCIA: 0.92\n",
      "ATIVIDADE: Decreto-lei n° 59/99 de 2 de Março que \"aprova o novo regime jurídico das empreitadas de obras públicas. | ADERÊNCIA: 1.00\n",
      "----------------------------------------\n",
      "ATIVIDADE: Decreto-lei n° 59/99 de 2 de Março que \"aprova o novo regime jurídico das empreitadas de obras públicas. | ADERÊNCIA: 1.00\n"
     ]
    }
   ],
   "source": [
    "atividades = find_projects('obras públicas', limit=0.9, sim_type='max')\n",
    "for atividade in atividades:\n",
    "    print(\"ATIVIDADE: {} | ADERÊNCIA: {:.02f}\".format(atividade[1], atividade[0]))\n",
    "\n",
    "print(\"----------------------------------------\")\n",
    "\n",
    "atividades = find_projects('obras públicas', sim_type='max_and')\n",
    "for atividade in atividades:\n",
    "    print(\"ATIVIDADE: {} | ADERÊNCIA: {:.02f}\".format(atividade[1], atividade[0]))\n",
    "\n",
    "print(\"----------------------------------------\")\n",
    "\n",
    "atividades = find_projects('obras públicas', sim_type='exact_match')\n",
    "for atividade in atividades:\n",
    "    print(\"ATIVIDADE: {} | ADERÊNCIA: {:.02f}\".format(atividade[1], atividade[0]))\n"
   ]
  },
  {
   "cell_type": "code",
   "execution_count": 49,
   "metadata": {},
   "outputs": [
    {
     "name": "stdout",
     "output_type": "stream",
     "text": [
      "ATIVIDADE: Pronuncia, acompanhamento e apreciação pela Assembleia da República da participação de Portugal no processo de construção da união europeia | ADERÊNCIA: 1.00\n",
      "ATIVIDADE: Decreto-lei n° 15/99,de 15 de Janeiro, que\"regula a intervenção do Estado nas actividades cinematográficas do audiovisual e do multimédia\". | ADERÊNCIA: 0.91\n",
      "ATIVIDADE: Altera o regime de instalação de novos municípios previsto na lei n° 142/85, de 18 de Novembro, para a situação de não ocorrência de eleições em prazo curto | ADERÊNCIA: 0.91\n",
      "ATIVIDADE: Decreto-lei n° 61/99 de 2 de Março que \"define o acesso e permanência na actividade de empreiteiro de obras publicas e industrial de construção civil. Revoga o decreto-lei n°100/88 de 23 de Março. | ADERÊNCIA: 1.00\n",
      "ATIVIDADE: Decreto-lei n° 59/99 de 2 de Março que \"aprova o novo regime jurídico das empreitadas de obras públicas. | ADERÊNCIA: 1.00\n",
      "----------------------------------------\n",
      "ATIVIDADE: Decreto-lei n° 61/99 de 2 de Março que \"define o acesso e permanência na actividade de empreiteiro de obras publicas e industrial de construção civil. Revoga o decreto-lei n°100/88 de 23 de Março. | ADERÊNCIA: 0.92\n",
      "----------------------------------------\n"
     ]
    }
   ],
   "source": [
    "atividades = find_projects('construção de obras públicas', limit=0.9, sim_type='max')\n",
    "for atividade in atividades:\n",
    "    print(\"ATIVIDADE: {} | ADERÊNCIA: {:.02f}\".format(atividade[1], atividade[0]))\n",
    "\n",
    "print(\"----------------------------------------\")\n",
    "\n",
    "atividades = find_projects('construção de obras públicas', sim_type='max_and')\n",
    "for atividade in atividades:\n",
    "    print(\"ATIVIDADE: {} | ADERÊNCIA: {:.02f}\".format(atividade[1], atividade[0]))\n",
    "\n",
    "print(\"----------------------------------------\")\n",
    "\n",
    "atividades = find_projects('construção de obras públicas', sim_type='exact_match')\n",
    "for atividade in atividades:\n",
    "    print(\"ATIVIDADE: {} | ADERÊNCIA: {:.02f}\".format(atividade[1], atividade[0]))"
   ]
  },
  {
   "cell_type": "code",
   "execution_count": 50,
   "metadata": {},
   "outputs": [
    {
     "name": "stdout",
     "output_type": "stream",
     "text": [
      "ATIVIDADE: Criação da rede publica de casas de apoio a mulheres vitimas de violência | ADERÊNCIA: 1.00\n",
      "ATIVIDADE: Reforça as garantias do direito a saúde reprodutiva | ADERÊNCIA: 1.00\n",
      "----------------------------------------\n",
      "----------------------------------------\n"
     ]
    }
   ],
   "source": [
    "atividades = find_projects('direito das mulheres', limit=0.9, sim_type='max')\n",
    "for atividade in atividades:\n",
    "    print(\"ATIVIDADE: {} | ADERÊNCIA: {:.02f}\".format(atividade[1], atividade[0]))\n",
    "\n",
    "print(\"----------------------------------------\")\n",
    "\n",
    "atividades = find_projects('direito das mulheres', sim_type='max_and')\n",
    "for atividade in atividades:\n",
    "    print(\"ATIVIDADE: {} | ADERÊNCIA: {:.02f}\".format(atividade[1], atividade[0]))\n",
    "\n",
    "print(\"----------------------------------------\")\n",
    "\n",
    "atividades = find_projects('direito das mulheres', sim_type='exact_match')\n",
    "for atividade in atividades:\n",
    "    print(\"ATIVIDADE: {} | ADERÊNCIA: {:.02f}\".format(atividade[1], atividade[0]))"
   ]
  },
  {
   "cell_type": "code",
   "execution_count": 52,
   "metadata": {},
   "outputs": [
    {
     "name": "stdout",
     "output_type": "stream",
     "text": [
      "ATIVIDADE: Criação da rede publica de casas de apoio a mulheres vitimas de violência | ADERÊNCIA: 0.79\n",
      "----------------------------------------\n",
      "----------------------------------------\n"
     ]
    }
   ],
   "source": [
    "atividades = find_projects('corrupção', limit=0.7, sim_type='max')\n",
    "for atividade in atividades:\n",
    "    print(\"ATIVIDADE: {} | ADERÊNCIA: {:.02f}\".format(atividade[1], atividade[0]))\n",
    "\n",
    "print(\"----------------------------------------\")\n",
    "\n",
    "atividades = find_projects('corrupção', sim_type='max_and')\n",
    "for atividade in atividades:\n",
    "    print(\"ATIVIDADE: {} | ADERÊNCIA: {:.02f}\".format(atividade[1], atividade[0]))\n",
    "\n",
    "print(\"----------------------------------------\")\n",
    "\n",
    "atividades = find_projects('corrupção', sim_type='exact_match')\n",
    "for atividade in atividades:\n",
    "    print(\"ATIVIDADE: {} | ADERÊNCIA: {:.02f}\".format(atividade[1], atividade[0]))"
   ]
  },
  {
   "cell_type": "code",
   "execution_count": null,
   "metadata": {},
   "outputs": [],
   "source": []
  }
 ],
 "metadata": {
  "kernelspec": {
   "display_name": "nlp",
   "language": "python",
   "name": "nlp"
  },
  "language_info": {
   "codemirror_mode": {
    "name": "ipython",
    "version": 3
   },
   "file_extension": ".py",
   "mimetype": "text/x-python",
   "name": "python",
   "nbconvert_exporter": "python",
   "pygments_lexer": "ipython3",
   "version": "3.5.2"
  }
 },
 "nbformat": 4,
 "nbformat_minor": 4
}
