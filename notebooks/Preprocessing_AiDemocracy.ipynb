{
  "nbformat": 4,
  "nbformat_minor": 0,
  "metadata": {
    "colab": {
      "name": "Preprocessing_AiDemocracy",
      "provenance": [],
      "collapsed_sections": [],
      "toc_visible": true
    },
    "kernelspec": {
      "name": "python3",
      "display_name": "Python 3"
    },
    "language_info": {
      "name": "python"
    }
  },
  "cells": [
    {
      "cell_type": "markdown",
      "metadata": {
        "id": "5DaeDdyJrnq8"
      },
      "source": [
        "# **Pré-processamento AI Democracy**\n",
        "\n",
        "---\n",
        "\n",
        "O objetivo desse *notebook* é criar os métodos de pré-processamento de textos específicos para o AI Democracy. Desse modo é esperado reduzir o tamanho do vocabulário e simplificar formas lexicais, de modo que seja mais fácil para nossos modelos de *machine learning* abstrair *features* e informações relevantes das Atas do Diário da Assembléia da República (DAR) Portuguesa."
      ]
    },
    {
      "cell_type": "markdown",
      "metadata": {
        "id": "WiXrvZJ-yV_O"
      },
      "source": [
        "## Carregando Bibliotecas:\n",
        "\n",
        "Vamos então fazer o *download* do `spaCy`, uma biblioteca com funções de PLN e baixar também o conjunto de dados `pt_core_news_lg-3.0.0` também do `spaCy`que irá nos ajudar futuramente.\n",
        "\n",
        "Fora isso importaremos também as bibliotecas tradicionais."
      ]
    },
    {
      "cell_type": "code",
      "metadata": {
        "id": "7dovMPg53gqC",
        "colab": {
          "base_uri": "https://localhost:8080/"
        },
        "outputId": "d48bdb69-8848-4999-99e6-624dae377988"
      },
      "source": [
        "!pip install -U spacy"
      ],
      "execution_count": 1,
      "outputs": [
        {
          "output_type": "stream",
          "text": [
            "Collecting spacy\n",
            "  Using cached https://files.pythonhosted.org/packages/1b/d8/0361bbaf7a1ff56b44dca04dace54c82d63dad7475b7d25ea1baefafafb2/spacy-3.0.6-cp37-cp37m-manylinux2014_x86_64.whl\n",
            "Requirement already satisfied, skipping upgrade: murmurhash<1.1.0,>=0.28.0 in /usr/local/lib/python3.7/dist-packages (from spacy) (1.0.5)\n",
            "Collecting thinc<8.1.0,>=8.0.3\n",
            "  Using cached https://files.pythonhosted.org/packages/61/87/decceba68a0c6ca356ddcb6aea8b2500e71d9bc187f148aae19b747b7d3c/thinc-8.0.3-cp37-cp37m-manylinux2014_x86_64.whl\n",
            "Requirement already satisfied, skipping upgrade: typing-extensions<4.0.0.0,>=3.7.4; python_version < \"3.8\" in /usr/local/lib/python3.7/dist-packages (from spacy) (3.7.4.3)\n",
            "Requirement already satisfied, skipping upgrade: jinja2 in /usr/local/lib/python3.7/dist-packages (from spacy) (2.11.3)\n",
            "Requirement already satisfied, skipping upgrade: numpy>=1.15.0 in /usr/local/lib/python3.7/dist-packages (from spacy) (1.19.5)\n",
            "Requirement already satisfied, skipping upgrade: cymem<2.1.0,>=2.0.2 in /usr/local/lib/python3.7/dist-packages (from spacy) (2.0.5)\n",
            "Collecting pydantic<1.8.0,>=1.7.1\n",
            "  Using cached https://files.pythonhosted.org/packages/ca/fa/d43f31874e1f2a9633e4c025be310f2ce7a8350017579e9e837a62630a7e/pydantic-1.7.4-cp37-cp37m-manylinux2014_x86_64.whl\n",
            "Requirement already satisfied, skipping upgrade: requests<3.0.0,>=2.13.0 in /usr/local/lib/python3.7/dist-packages (from spacy) (2.23.0)\n",
            "Requirement already satisfied, skipping upgrade: blis<0.8.0,>=0.4.0 in /usr/local/lib/python3.7/dist-packages (from spacy) (0.4.1)\n",
            "Collecting srsly<3.0.0,>=2.4.1\n",
            "  Using cached https://files.pythonhosted.org/packages/c3/84/dfdfc9f6f04f6b88207d96d9520b911e5fec0c67ff47a0dea31ab5429a1e/srsly-2.4.1-cp37-cp37m-manylinux2014_x86_64.whl\n",
            "Requirement already satisfied, skipping upgrade: packaging>=20.0 in /usr/local/lib/python3.7/dist-packages (from spacy) (20.9)\n",
            "Requirement already satisfied, skipping upgrade: preshed<3.1.0,>=3.0.2 in /usr/local/lib/python3.7/dist-packages (from spacy) (3.0.5)\n",
            "Collecting pathy>=0.3.5\n",
            "  Using cached https://files.pythonhosted.org/packages/13/87/5991d87be8ed60beb172b4062dbafef18b32fa559635a8e2b633c2974f85/pathy-0.5.2-py3-none-any.whl\n",
            "Collecting catalogue<2.1.0,>=2.0.3\n",
            "  Using cached https://files.pythonhosted.org/packages/9c/10/dbc1203a4b1367c7b02fddf08cb2981d9aa3e688d398f587cea0ab9e3bec/catalogue-2.0.4-py3-none-any.whl\n",
            "Collecting spacy-legacy<3.1.0,>=3.0.4\n",
            "  Using cached https://files.pythonhosted.org/packages/8d/67/d4002a18e26bf29b17ab563ddb55232b445ab6a02f97bf17d1345ff34d3f/spacy_legacy-3.0.5-py2.py3-none-any.whl\n",
            "Requirement already satisfied, skipping upgrade: wasabi<1.1.0,>=0.8.1 in /usr/local/lib/python3.7/dist-packages (from spacy) (0.8.2)\n",
            "Collecting typer<0.4.0,>=0.3.0\n",
            "  Using cached https://files.pythonhosted.org/packages/90/34/d138832f6945432c638f32137e6c79a3b682f06a63c488dcfaca6b166c64/typer-0.3.2-py3-none-any.whl\n",
            "Requirement already satisfied, skipping upgrade: tqdm<5.0.0,>=4.38.0 in /usr/local/lib/python3.7/dist-packages (from spacy) (4.41.1)\n",
            "Requirement already satisfied, skipping upgrade: setuptools in /usr/local/lib/python3.7/dist-packages (from spacy) (56.1.0)\n",
            "Requirement already satisfied, skipping upgrade: MarkupSafe>=0.23 in /usr/local/lib/python3.7/dist-packages (from jinja2->spacy) (2.0.0)\n",
            "Requirement already satisfied, skipping upgrade: certifi>=2017.4.17 in /usr/local/lib/python3.7/dist-packages (from requests<3.0.0,>=2.13.0->spacy) (2020.12.5)\n",
            "Requirement already satisfied, skipping upgrade: urllib3!=1.25.0,!=1.25.1,<1.26,>=1.21.1 in /usr/local/lib/python3.7/dist-packages (from requests<3.0.0,>=2.13.0->spacy) (1.24.3)\n",
            "Requirement already satisfied, skipping upgrade: idna<3,>=2.5 in /usr/local/lib/python3.7/dist-packages (from requests<3.0.0,>=2.13.0->spacy) (2.10)\n",
            "Requirement already satisfied, skipping upgrade: chardet<4,>=3.0.2 in /usr/local/lib/python3.7/dist-packages (from requests<3.0.0,>=2.13.0->spacy) (3.0.4)\n",
            "Requirement already satisfied, skipping upgrade: pyparsing>=2.0.2 in /usr/local/lib/python3.7/dist-packages (from packaging>=20.0->spacy) (2.4.7)\n",
            "Processing /root/.cache/pip/wheels/18/88/7c/f06dabd5e9cabe02d2269167bcacbbf9b47d0c0ff7d6ebcb78/smart_open-3.0.0-cp37-none-any.whl\n",
            "Requirement already satisfied, skipping upgrade: zipp>=0.5; python_version < \"3.8\" in /usr/local/lib/python3.7/dist-packages (from catalogue<2.1.0,>=2.0.3->spacy) (3.4.1)\n",
            "Collecting click<7.2.0,>=7.1.1\n",
            "  Using cached https://files.pythonhosted.org/packages/d2/3d/fa76db83bf75c4f8d338c2fd15c8d33fdd7ad23a9b5e57eb6c5de26b430e/click-7.1.2-py2.py3-none-any.whl\n",
            "Installing collected packages: pydantic, catalogue, srsly, thinc, click, typer, smart-open, pathy, spacy-legacy, spacy\n",
            "  Found existing installation: catalogue 1.0.0\n",
            "    Uninstalling catalogue-1.0.0:\n",
            "      Successfully uninstalled catalogue-1.0.0\n",
            "  Found existing installation: srsly 1.0.5\n",
            "    Uninstalling srsly-1.0.5:\n",
            "      Successfully uninstalled srsly-1.0.5\n",
            "  Found existing installation: thinc 7.4.0\n",
            "    Uninstalling thinc-7.4.0:\n",
            "      Successfully uninstalled thinc-7.4.0\n",
            "  Found existing installation: click 8.0.0\n",
            "    Uninstalling click-8.0.0:\n",
            "      Successfully uninstalled click-8.0.0\n",
            "  Found existing installation: smart-open 5.0.0\n",
            "    Uninstalling smart-open-5.0.0:\n",
            "      Successfully uninstalled smart-open-5.0.0\n",
            "  Found existing installation: spacy 2.2.4\n",
            "    Uninstalling spacy-2.2.4:\n",
            "      Successfully uninstalled spacy-2.2.4\n",
            "Successfully installed catalogue-2.0.4 click-7.1.2 pathy-0.5.2 pydantic-1.7.4 smart-open-3.0.0 spacy-3.0.6 spacy-legacy-3.0.5 srsly-2.4.1 thinc-8.0.3 typer-0.3.2\n"
          ],
          "name": "stdout"
        }
      ]
    },
    {
      "cell_type": "code",
      "metadata": {
        "colab": {
          "base_uri": "https://localhost:8080/"
        },
        "id": "ikjVe18StZob",
        "outputId": "4db754a8-7950-48c8-d440-f31a4aef9993"
      },
      "source": [
        "import pandas as pd\n",
        "import numpy as np\n",
        "import re\n",
        "import nltk\n",
        "import collections\n",
        "import seaborn as sns\n",
        "import matplotlib.pyplot as plt\n",
        "from scipy.optimize import curve_fit\n",
        "nltk.download('stopwords')\n",
        "from bs4 import BeautifulSoup\n",
        "import os\n",
        "import pickle\n",
        "import spacy"
      ],
      "execution_count": 2,
      "outputs": [
        {
          "output_type": "stream",
          "text": [
            "[nltk_data] Downloading package stopwords to /root/nltk_data...\n",
            "[nltk_data]   Unzipping corpora/stopwords.zip.\n"
          ],
          "name": "stdout"
        }
      ]
    },
    {
      "cell_type": "code",
      "metadata": {
        "id": "mIceVbPq3Pf1",
        "colab": {
          "base_uri": "https://localhost:8080/"
        },
        "outputId": "e11fd5d3-19bd-4c5e-f06e-84a1812eeef1"
      },
      "source": [
        "!python -m spacy download pt_core_news_lg"
      ],
      "execution_count": 3,
      "outputs": [
        {
          "output_type": "stream",
          "text": [
            "2021-05-22 15:46:53.759628: I tensorflow/stream_executor/platform/default/dso_loader.cc:49] Successfully opened dynamic library libcudart.so.11.0\n",
            "Collecting pt-core-news-lg==3.0.0\n",
            "\u001b[?25l  Downloading https://github.com/explosion/spacy-models/releases/download/pt_core_news_lg-3.0.0/pt_core_news_lg-3.0.0-py3-none-any.whl (578.1MB)\n",
            "\u001b[K     |████████████████████████████████| 578.1MB 19kB/s \n",
            "\u001b[?25hRequirement already satisfied: spacy<3.1.0,>=3.0.0 in /usr/local/lib/python3.7/dist-packages (from pt-core-news-lg==3.0.0) (3.0.6)\n",
            "Requirement already satisfied: numpy>=1.15.0 in /usr/local/lib/python3.7/dist-packages (from spacy<3.1.0,>=3.0.0->pt-core-news-lg==3.0.0) (1.19.5)\n",
            "Requirement already satisfied: pydantic<1.8.0,>=1.7.1 in /usr/local/lib/python3.7/dist-packages (from spacy<3.1.0,>=3.0.0->pt-core-news-lg==3.0.0) (1.7.4)\n",
            "Requirement already satisfied: packaging>=20.0 in /usr/local/lib/python3.7/dist-packages (from spacy<3.1.0,>=3.0.0->pt-core-news-lg==3.0.0) (20.9)\n",
            "Requirement already satisfied: pathy>=0.3.5 in /usr/local/lib/python3.7/dist-packages (from spacy<3.1.0,>=3.0.0->pt-core-news-lg==3.0.0) (0.5.2)\n",
            "Requirement already satisfied: tqdm<5.0.0,>=4.38.0 in /usr/local/lib/python3.7/dist-packages (from spacy<3.1.0,>=3.0.0->pt-core-news-lg==3.0.0) (4.41.1)\n",
            "Requirement already satisfied: requests<3.0.0,>=2.13.0 in /usr/local/lib/python3.7/dist-packages (from spacy<3.1.0,>=3.0.0->pt-core-news-lg==3.0.0) (2.23.0)\n",
            "Requirement already satisfied: typing-extensions<4.0.0.0,>=3.7.4; python_version < \"3.8\" in /usr/local/lib/python3.7/dist-packages (from spacy<3.1.0,>=3.0.0->pt-core-news-lg==3.0.0) (3.7.4.3)\n",
            "Requirement already satisfied: murmurhash<1.1.0,>=0.28.0 in /usr/local/lib/python3.7/dist-packages (from spacy<3.1.0,>=3.0.0->pt-core-news-lg==3.0.0) (1.0.5)\n",
            "Requirement already satisfied: spacy-legacy<3.1.0,>=3.0.4 in /usr/local/lib/python3.7/dist-packages (from spacy<3.1.0,>=3.0.0->pt-core-news-lg==3.0.0) (3.0.5)\n",
            "Requirement already satisfied: cymem<2.1.0,>=2.0.2 in /usr/local/lib/python3.7/dist-packages (from spacy<3.1.0,>=3.0.0->pt-core-news-lg==3.0.0) (2.0.5)\n",
            "Requirement already satisfied: catalogue<2.1.0,>=2.0.3 in /usr/local/lib/python3.7/dist-packages (from spacy<3.1.0,>=3.0.0->pt-core-news-lg==3.0.0) (2.0.4)\n",
            "Requirement already satisfied: wasabi<1.1.0,>=0.8.1 in /usr/local/lib/python3.7/dist-packages (from spacy<3.1.0,>=3.0.0->pt-core-news-lg==3.0.0) (0.8.2)\n",
            "Requirement already satisfied: srsly<3.0.0,>=2.4.1 in /usr/local/lib/python3.7/dist-packages (from spacy<3.1.0,>=3.0.0->pt-core-news-lg==3.0.0) (2.4.1)\n",
            "Requirement already satisfied: jinja2 in /usr/local/lib/python3.7/dist-packages (from spacy<3.1.0,>=3.0.0->pt-core-news-lg==3.0.0) (2.11.3)\n",
            "Requirement already satisfied: preshed<3.1.0,>=3.0.2 in /usr/local/lib/python3.7/dist-packages (from spacy<3.1.0,>=3.0.0->pt-core-news-lg==3.0.0) (3.0.5)\n",
            "Requirement already satisfied: typer<0.4.0,>=0.3.0 in /usr/local/lib/python3.7/dist-packages (from spacy<3.1.0,>=3.0.0->pt-core-news-lg==3.0.0) (0.3.2)\n",
            "Requirement already satisfied: thinc<8.1.0,>=8.0.3 in /usr/local/lib/python3.7/dist-packages (from spacy<3.1.0,>=3.0.0->pt-core-news-lg==3.0.0) (8.0.3)\n",
            "Requirement already satisfied: blis<0.8.0,>=0.4.0 in /usr/local/lib/python3.7/dist-packages (from spacy<3.1.0,>=3.0.0->pt-core-news-lg==3.0.0) (0.4.1)\n",
            "Requirement already satisfied: setuptools in /usr/local/lib/python3.7/dist-packages (from spacy<3.1.0,>=3.0.0->pt-core-news-lg==3.0.0) (56.1.0)\n",
            "Requirement already satisfied: pyparsing>=2.0.2 in /usr/local/lib/python3.7/dist-packages (from packaging>=20.0->spacy<3.1.0,>=3.0.0->pt-core-news-lg==3.0.0) (2.4.7)\n",
            "Requirement already satisfied: smart-open<4.0.0,>=2.2.0 in /usr/local/lib/python3.7/dist-packages (from pathy>=0.3.5->spacy<3.1.0,>=3.0.0->pt-core-news-lg==3.0.0) (3.0.0)\n",
            "Requirement already satisfied: idna<3,>=2.5 in /usr/local/lib/python3.7/dist-packages (from requests<3.0.0,>=2.13.0->spacy<3.1.0,>=3.0.0->pt-core-news-lg==3.0.0) (2.10)\n",
            "Requirement already satisfied: urllib3!=1.25.0,!=1.25.1,<1.26,>=1.21.1 in /usr/local/lib/python3.7/dist-packages (from requests<3.0.0,>=2.13.0->spacy<3.1.0,>=3.0.0->pt-core-news-lg==3.0.0) (1.24.3)\n",
            "Requirement already satisfied: chardet<4,>=3.0.2 in /usr/local/lib/python3.7/dist-packages (from requests<3.0.0,>=2.13.0->spacy<3.1.0,>=3.0.0->pt-core-news-lg==3.0.0) (3.0.4)\n",
            "Requirement already satisfied: certifi>=2017.4.17 in /usr/local/lib/python3.7/dist-packages (from requests<3.0.0,>=2.13.0->spacy<3.1.0,>=3.0.0->pt-core-news-lg==3.0.0) (2020.12.5)\n",
            "Requirement already satisfied: zipp>=0.5; python_version < \"3.8\" in /usr/local/lib/python3.7/dist-packages (from catalogue<2.1.0,>=2.0.3->spacy<3.1.0,>=3.0.0->pt-core-news-lg==3.0.0) (3.4.1)\n",
            "Requirement already satisfied: MarkupSafe>=0.23 in /usr/local/lib/python3.7/dist-packages (from jinja2->spacy<3.1.0,>=3.0.0->pt-core-news-lg==3.0.0) (2.0.0)\n",
            "Requirement already satisfied: click<7.2.0,>=7.1.1 in /usr/local/lib/python3.7/dist-packages (from typer<0.4.0,>=0.3.0->spacy<3.1.0,>=3.0.0->pt-core-news-lg==3.0.0) (7.1.2)\n",
            "Installing collected packages: pt-core-news-lg\n",
            "Successfully installed pt-core-news-lg-3.0.0\n",
            "\u001b[38;5;2m✔ Download and installation successful\u001b[0m\n",
            "You can now load the package via spacy.load('pt_core_news_lg')\n"
          ],
          "name": "stdout"
        }
      ]
    },
    {
      "cell_type": "markdown",
      "metadata": {
        "id": "NLqScqqwyYcv"
      },
      "source": [
        "## Carregando Dados:\n",
        "\n",
        "Carregando o *dataset* das atas."
      ]
    },
    {
      "cell_type": "code",
      "metadata": {
        "id": "tbpc9LhCybG2"
      },
      "source": [
        "minutes = pd.read_csv('atas_com_subject.csv')\n",
        "minutes.drop('Unnamed: 0', axis=1, inplace=True)"
      ],
      "execution_count": 4,
      "outputs": []
    },
    {
      "cell_type": "markdown",
      "metadata": {
        "id": "fiEjiY6-ynTB"
      },
      "source": [
        "# **Limpeza \"Bruta\"**\n",
        "\n",
        "---\n",
        "\n",
        "Nesse primeiro módulo temos 3 funções cada uma tem um propósito e, combinadas, vão nos ajudar a limpar os dados na base da \"força bruta\". Dentro das Atas existem alguns erros de digitação que podem atrapalhar, criando variações de vocabulário inexistentes e gerando *tokens* que não são relevantes para o nosso trabalho.\n",
        "<br><br>\n",
        "`find_typos`: Serve para identificar *typos*, que são prováveis erros de digitação que a redação das Atas do DAR cometeu. Para conseguirmos acharmos quais são os prováveis *typos* usaremos a distância de edição de Levenshtein, essa distância retorna o número mínimo de operações necessárias para transformar uma `string` em outra. (Observação:  São consideradas operações a inserção, deleção ou substituição de um caractere.)\n",
        "<br><br>\n",
        "`clean`: Depois que os possíveis *typos* foram analisados manualmente e foi conferido quais realmente são os erros de digitação existentes, essa função cuida da parte de corrigir nosso *dataset* e substituir esses erros de digitação pela palavra correta.\n",
        "<br><br>\n",
        "`remove_non_politicians_party`: Essa função visa corrigir um problema na hora da coleta de dados, alguns cargos do DAR não possuem um partido explícito em suas falas, para o caso de Presidentes e Secretários, o algoritmo então erroneamente assimilava o Nome dessa pessoa ao local designado para o partido. Essa função deixa esses cargos sem esse partido."
      ]
    },
    {
      "cell_type": "code",
      "metadata": {
        "id": "bNDte_8lyq00",
        "colab": {
          "base_uri": "https://localhost:8080/"
        },
        "outputId": "28714b53-15d1-49ac-9ae3-1e173a2e2406"
      },
      "source": [
        "def find_typos(citations, threshold=3):\n",
        "    people = pd.Series(citations['Person'].unique()).to_list()\n",
        "    people = list(set(people))\n",
        "\n",
        "    tested = []\n",
        "    k = 0\n",
        "\n",
        "    for person_1 in people:\n",
        "        for person_2 in people:\n",
        "            is_different = person_1 != person_2\n",
        "            not_tested = (person_1, person_2) not in tested\n",
        "            edit_threshold = nltk.edit_distance(person_1, person_2) <= threshold\n",
        "            if is_different and not_tested and edit_threshold:\n",
        "                tested.append((person_1, person_2))\n",
        "                tested.append((person_2, person_1))\n",
        "                k+=1\n",
        "                if k < 10:\n",
        "                    print(' {}) '.format(k), person_1, '.'*(35 - len(person_1)), person_2)\n",
        "                else:\n",
        "                    print( '{}) '.format(k), person_1, '.'*(35 - len(person_1)), person_2)\n",
        "\n",
        "def remove_non_politicians_party(citations):\n",
        "    not_politicians = ['Presidente', 'Secretária', 'Secretário', 'Ministra', 'Ministro']\n",
        "    for not_politician in not_politicians:\n",
        "        citations['Party'].loc[citations['Person'].str.contains(not_politician)] = np.nan\n",
        "    return citations\n",
        "\n",
        "def clean(citations):\n",
        "    #Corrigir falhas incoerências\n",
        "    citations.replace(to_replace='Partido Socialista', value='PS', inplace=True)\n",
        "    citations.replace(to_replace='SD', value=np.nan, inplace=True)\n",
        "    citations.replace(to_replace='N insc.', value=np.nan, inplace=True)\n",
        "\n",
        "    #Arrumando nomes que não tinham o devido espaçamento\n",
        "    regex = re.compile(\"[a-zá-ú][A-Z]\")\n",
        "    for i in range(3):\n",
        "        for person in citations['Person']:\n",
        "            match = re.search(regex, person)\n",
        "            if match:\n",
        "                citations['Person'].replace(to_replace=person,\n",
        "                                            value=person[:match.start()+1] + \" \" + person[match.end()-1:],\n",
        "                                            inplace=True)\n",
        "    for col in ['Person', 'Text']:\n",
        "        citations[col].replace(to_replace='Rosário Gamboa', value='Rosário Gambôa', inplace=True)\n",
        "        citations[col].replace(to_replace='António Malo de Abreu', value='António Maló de Abreu', inplace=True)\n",
        "        citations[col].replace(to_replace='Inês de Sousa Leal', value='Inês de Sousa Real', inplace=True)\n",
        "        citations[col].replace(to_replace='Vera Brás', value='Vera Braz', inplace=True)\n",
        "        citations[col].replace(to_replace='Nélson Basílio Silva', value='Nelson Basílio Silva', inplace=True)\n",
        "        citations[col].replace(to_replace='André Pinotes Baptista', value='André Pinotes Batista', inplace=True)\n",
        "        citations[col].replace(to_replace='Claúdia Santos', value='Cláudia Santos', inplace=True)\n",
        "        citations[col].replace(to_replace='Secretáriode Estado do Comércio, Serviços e Defesa do Consumidor',\n",
        "                               value='Secretário de Estado do Comércio, Serviços e Defesa do Consumidor', inplace=True)\n",
        "        citations[col].replace(to_replace='Secretáriade Estado da Habitação',\n",
        "                               value='Secretária de Estado da Habitação', inplace=True)\n",
        "        citations[col].replace(to_replace='Maria Antónia Almeida Santos',\n",
        "                               value='Maria Antónia de Almeida Santos', inplace=True)\n",
        "\n",
        "    return citations\n",
        "\n",
        "print(\"=\"*30, \"SEM LIMPEZA\", \"=\"*30)\n",
        "find_typos(minutes)\n",
        "print(\"\\n\\n\")\n",
        "\n",
        "print(\"=\"*30, \"COM LIMPEZA\", \"=\"*30)\n",
        "minutes = clean(minutes)\n",
        "find_typos(minutes)\n",
        "minutes = remove_non_politicians_party(minutes)"
      ],
      "execution_count": 5,
      "outputs": [
        {
          "output_type": "stream",
          "text": [
            "============================== SEM LIMPEZA ==============================\n",
            " 1)  AndréSilva ......................... André Silva\n",
            " 2)  AntónioFilipe ...................... António Filipe\n",
            " 3)  Ministrada Modernização do Estado e da Administração Pública  Ministra da Modernização do Estado e da Administração Pública\n",
            " 4)  António Lima Costa ................. AntónioLima Costa\n",
            " 5)  Maria Antónia de Almeida Santos .... Maria Antónia Almeida Santos\n",
            " 6)  André Pinotes Baptista ............. André Pinotes Batista\n",
            " 7)  António Malo de Abreu .............. António Maló de Abreu\n",
            " 8)  Rosário Gambôa ..................... Rosário Gamboa\n",
            " 9)  Vera Braz .......................... Vera Brás\n",
            "10)  IvanGonçalves ...................... Ivan Gonçalves\n",
            "11)  Hugo Carvalho ...................... Nuno Carvalho\n",
            "12)  Isabel Lopes ....................... Isabel Pires\n",
            "13)  PedroDelgadoAlves .................. Pedro Delgado Alves\n",
            "14)  Isabel Rodrigues ................... Anabela Rodrigues\n",
            "15)  Paulo Porto ........................ Paulo Pisco\n",
            "16)  Ana Catarina MendonçaMendes ........ Ana Catarina Mendonça Mendes\n",
            "17)  Nelson Basílio Silva ............... Nélson Basílio Silva\n",
            "18)  Inês de Sousa Leal ................. Inês de Sousa Real\n",
            "19)  JoséCancela Moura .................. José Cancela Moura\n",
            "20)  Cláudia Santos ..................... Cláudia Bento\n",
            "21)  Cláudia Santos ..................... Claúdia Santos\n",
            "22)  João Dias .......................... JoãoDias\n",
            "23)  André Silva ........................ Adão Silva\n",
            "24)  AnaRitaBessa ....................... Ana Rita Bessa\n",
            "25)  Afonso Oliveira .................... AfonsoOliveira\n",
            "26)  AndréVentura ....................... André Ventura\n",
            "27)  IsabelMeireles ..................... Isabel Meireles\n",
            "28)  TelmoCorreia ....................... Telmo Correia\n",
            "29)  Telmo Correia ...................... Helga Correia\n",
            "30)  Jamila Madeira ..................... JamilaMadeira\n",
            "31)  Primeiro-Ministro .................. Primeiro Ministro\n",
            "32)  Secretáriode Estado do Comércio, Serviços e Defesa do Consumidor  Secretário de Estado do Comércio, Serviços e Defesa do Consumidor\n",
            "33)  Pedro Filipe Soares ................ PedroFilipeSoares\n",
            "34)  FilipaRoseta ....................... Filipa Roseta\n",
            "35)  JoãoOliveira ....................... João Oliveira\n",
            "36)  Carla Barros ....................... Carla Borges\n",
            "37)  Alexandra Vieira ................... Alexandra Viera\n",
            "38)  Bebiana Cunha ...................... BebianaCunha\n",
            "39)  João Oliveira ...................... Hugo Oliveira\n",
            "40)  Secretária ......................... Secretário\n",
            "41)  Secretáriade Estado da Habitação ... Secretária de Estado da Habitação\n",
            "\n",
            "\n",
            "\n",
            "============================== COM LIMPEZA ==============================\n",
            " 1)  Ministrada Modernização do Estado e da Administração Pública  Ministra da Modernização do Estado e da Administração Pública\n",
            " 2)  Hugo Carvalho ...................... Nuno Carvalho\n",
            " 3)  Isabel Lopes ....................... Isabel Pires\n",
            " 4)  Isabel Rodrigues ................... Anabela Rodrigues\n",
            " 5)  Paulo Porto ........................ Paulo Pisco\n",
            " 6)  Cláudia Santos ..................... Cláudia Bento\n",
            " 7)  André Silva ........................ Adão Silva\n",
            " 8)  Telmo Correia ...................... Helga Correia\n",
            " 9)  Primeiro-Ministro .................. Primeiro Ministro\n",
            "10)  Carla Barros ....................... Carla Borges\n",
            "11)  Alexandra Vieira ................... Alexandra Viera\n",
            "12)  João Oliveira ...................... Hugo Oliveira\n",
            "13)  Secretária ......................... Secretário\n"
          ],
          "name": "stdout"
        },
        {
          "output_type": "stream",
          "text": [
            "/usr/local/lib/python3.7/dist-packages/pandas/core/indexing.py:670: SettingWithCopyWarning: \n",
            "A value is trying to be set on a copy of a slice from a DataFrame\n",
            "\n",
            "See the caveats in the documentation: https://pandas.pydata.org/pandas-docs/stable/user_guide/indexing.html#returning-a-view-versus-a-copy\n",
            "  iloc._setitem_with_indexer(indexer, value)\n"
          ],
          "name": "stderr"
        }
      ]
    },
    {
      "cell_type": "markdown",
      "metadata": {
        "id": "mh4kPHV-IKhA"
      },
      "source": [
        "# **Tokenização**\n",
        "\n",
        "---\n",
        "\n",
        "Nessa etapa queremos separar cada uma das palavras que temos do nosso texto, isso é um processo importante e quase obrigatório na maioria dos *pipelines* de PLN. Essa tratativa irá facilitar os nossos próximos pré-processamentos. Ao final queremos ter uma lista de *tokens*, ou seja, uma lista com cada uma dessas palavras.\n",
        "\n",
        "`recover_citations_by_minute`: Função auxiliar que concatena todos os trechos de `minutes['Text']` para cada uma das Atas do DAR e devolve em forma de lista.\n",
        "<br><br>\n",
        "`recover_all_citations`: Concatena cada um dos textos da lista produzida pela função anterior, devolvendo um único bloco de texto.\n",
        "<br><br>\n",
        "`tokenization`: Função recebe um bloco de texto e aplica uma primeira limpeza, removendo sinais de pontuação e símbolos. Em seguida ela divide as palavras nos espaçamentos e cria os *tokens*. Vale ressaltar que essa função é sensível aos nomes dos políticos e nomes de partidos, ou seja, ela não divide um nome composto em dois *tokens* diferentes. Exemplo:<br>\n",
        "Tokenização padrão: `'José Silva' --> ['José', 'Silva']`<br>\n",
        "Tokenização sensível: `'José Silva' --> ['José Silva']`"
      ]
    },
    {
      "cell_type": "code",
      "metadata": {
        "id": "aplBvaZlIJ3x"
      },
      "source": [
        "def recover_citations_by_minute(citations):\n",
        "    documents = []\n",
        "\n",
        "    for transcript in citations['Transcript'].unique().tolist():\n",
        "        concatenate = ''\n",
        "        for text in citations['Text'].loc[citations['Transcript'] == transcript]:\n",
        "            concatenate += text + ' '\n",
        "        documents.append(concatenate)\n",
        "\n",
        "    return documents\n",
        "\n",
        "def recover_all_citations(citations):\n",
        "    documents = recover_citations_by_minute(citations)\n",
        "\n",
        "    text_all = ''\n",
        "    for text in documents:\n",
        "        text_all += text + ' '\n",
        "    \n",
        "    return text_all\n",
        "\n",
        "def tokenization(text):\n",
        "    chars_to_remove = \"!\\\"#$%&'()*+,¸./:;<=>?@[\\]^_`{|}-–⎯—«»´°‘’…~ªº€0123456789\"\n",
        "    for char in chars_to_remove:\n",
        "        text = text.replace(char, ' ')\n",
        "    text = text.replace('CDS PP', 'CDS-PP')\n",
        "\n",
        "    #Passando pessoas e partidos para um único token concatenado\n",
        "    person_map = {}\n",
        "    for person in pd.Series(minutes['Person'].unique()).to_list():\n",
        "        person_map[''.join(person.lower().split())] = person\n",
        "\n",
        "    party_map = {}\n",
        "    for party in pd.Series(minutes['Party'].unique()).to_list():\n",
        "        party = str(party)\n",
        "        party_map[''.join(party.lower().split())] = party\n",
        "\n",
        "    #Aplicando token único no texto\n",
        "    for person in person_map:\n",
        "        text = text.replace(person_map[person], person)\n",
        "    for party in party_map:\n",
        "        party = str(party)\n",
        "        text = text.replace(party_map[party], party)\n",
        "\n",
        "    #Colocando todo o texto em lowercase e separando palavras\n",
        "    text = text.lower()\n",
        "    words = text.split()\n",
        "\n",
        "    #Deixando nomes de pessoas como tokens legiveis novamente\n",
        "    for i, word in enumerate(words):\n",
        "        if word in person_map:\n",
        "            words[i] = person_map[word]\n",
        "        elif word in party_map:\n",
        "            words[i] = party_map[word]\n",
        "\n",
        "    return words\n",
        "\n",
        "tokens = tokenization(recover_all_citations(minutes))\n",
        "minutes['Tokenized_Text'] = minutes['Text'].apply(tokenization)"
      ],
      "execution_count": 6,
      "outputs": []
    },
    {
      "cell_type": "markdown",
      "metadata": {
        "id": "e-5X18Baju13"
      },
      "source": [
        "# **Lista de stopwords personalizada**\n",
        "\n",
        "---\n",
        "\n",
        "A proposta nessa etapa é filtrar as *stopwords* que existem no nosso vocabulário, entende-se por *stopword* palavras que são bastante frequentes em uma língua, mas que carregam pouca relevância semância, como exemplo artigos (“o” ou “uma”) e preposições (“de”) geralmente são *stopwords*. Para a filtragem vamos utilizar não só uma lista de *stopwords* para português do `NLTK` como também selecionaremos algumas palavras específicas que são *stopwords* no nosso contexto utilizando a Lei de Zipf.\n",
        "\n",
        "`create_zipf_table`: Essa função irá retornar uma tabela de dados na forma de `pd.DataFrame` contendo a uma palavra (word), o número de vezes que essa palavra apareceu (frequency) e o ranque dessa palavra (rank).\n",
        "<br><br>\n",
        "`objective`: Função auxiliar para traçar a curva $f(x) = \\frac{c}{x}$\n",
        "<br><br>\n",
        "`show_zipf_graph`: Está função gera um gráfico da frequência pelo rank de cada palavra usando a tabela gerada pela função anterior, estimando $c$ com um *fitting* dos dados.\n",
        "<br><br>\n"
      ]
    },
    {
      "cell_type": "code",
      "metadata": {
        "colab": {
          "base_uri": "https://localhost:8080/",
          "height": 580
        },
        "id": "JNiKGCPDjvsK",
        "outputId": "97dbc98e-f6d5-4d69-94d7-68c176c9e473"
      },
      "source": [
        "def create_zipf_table(words, top='all'):\n",
        "    if top == 'all':\n",
        "        frequencies = collections.Counter(words).most_common()\n",
        "    if top != 'all':\n",
        "        frequencies = collections.Counter(words).most_common(top)\n",
        "\n",
        "    zipf_table = []\n",
        "\n",
        "    top_frequency = frequencies[0][1]\n",
        "\n",
        "    for index, item in enumerate(frequencies, start=1):\n",
        "        zipf_table.append({\n",
        "            \"rank\" : index,\n",
        "            \"word\" : item[0],\n",
        "            \"frequency\" : item[1],\n",
        "        })\n",
        "\n",
        "    return pd.DataFrame(zipf_table)\n",
        "\n",
        "def objective (x, c):\n",
        "    return c/x\n",
        "\n",
        "def show_zipf_graph(words, top=50, with_tendency=True):\n",
        "    df = create_zipf_table(words, top)\n",
        "\n",
        "    sns.set(rc={'figure.figsize':(16,8)})\n",
        "    ax = sns.barplot(x='word', y='frequency', data=df)\n",
        "    ax.set_title('Zipf Law', fontsize='xx-large', fontweight='bold', y=1.05)\n",
        "    ax.set_xlabel('Words', fontsize='large', fontweight='semibold')\n",
        "    ax.set_ylabel('Frequencies', fontsize='large', fontweight='semibold')\n",
        "    ax.tick_params(axis='x', rotation=90)\n",
        "\n",
        "    if with_tendency:\n",
        "        x = df['rank']\n",
        "        y = df['frequency']\n",
        "\n",
        "        c, _ = curve_fit(objective, x, y)\n",
        "\n",
        "        math = pd.DataFrame()\n",
        "        math['x'] = np.arange(1, len(create_zipf_table(words))+0.1, 0.1)\n",
        "        math['f'] = c[0]/math['x']\n",
        "\n",
        "        sns.lineplot(x='x', y='f', data=math[5:top*10], color='red', linewidth=2)\n",
        "    \n",
        "    plt.show()\n",
        "\n",
        "show_zipf_graph(tokens, 75)"
      ],
      "execution_count": 7,
      "outputs": [
        {
          "output_type": "display_data",
          "data": {
            "image/png": "[encoded data removed]",
            "text/plain": [
              "<Figure size 1152x576 with 1 Axes>"
            ]
          },
          "metadata": {
            "tags": []
          }
        }
      ]
    },
    {
      "cell_type": "markdown",
      "metadata": {
        "id": "fG3H308VkHbQ"
      },
      "source": [
        "Podemos ver que as primeiras palavras que aparecem são as nossas *stopwords* \"de sempre\", vamos então remover elas utilziando a lista do `NLTK` para vermos se algumas palavras do nosso vocabulário se comportam como *stopwords*:"
      ]
    },
    {
      "cell_type": "code",
      "metadata": {
        "colab": {
          "base_uri": "https://localhost:8080/",
          "height": 598
        },
        "id": "m39ESSU3jvuz",
        "outputId": "5582587c-ab29-466a-f19f-c36494ed3f49"
      },
      "source": [
        "stopwords = nltk.corpus.stopwords.words('portuguese')\n",
        "clean_words = [word for word in tokens if word not in stopwords]\n",
        "zipf_table = create_zipf_table(clean_words)\n",
        "show_zipf_graph(clean_words, 75, with_tendency=True)"
      ],
      "execution_count": 8,
      "outputs": [
        {
          "output_type": "display_data",
          "data": {
            "image/png": "[encoded data removed]",
            "text/plain": [
              "<Figure size 1152x576 with 1 Axes>"
            ]
          },
          "metadata": {
            "tags": []
          }
        }
      ]
    },
    {
      "cell_type": "markdown",
      "metadata": {
        "id": "MjJB9GpXj37G"
      },
      "source": [
        "Podemos perceber que a palavra \"sr\" tem um comportamento absurdamente discrepante dos outros, mas mesmo assim podemos perceber que as primeiras palavras até \"deputados\" apresentam muitas citação e não adicionam muito significado (para o nosso contexto específico), dessa forma vamos adicionar essas palavras à nossa lista de *stopwords* personalizada.\n",
        "\n",
        "Como uma forma também de simplificar o nosso vocabulário é interessante remover as palavras que aparecem uma única vez, elas não agregam muito no sentido de que tem muito poucas aparições e dificultam a extração de *features* realmente relevantes. Vamos olhar algumas estatísticas:"
      ]
    },
    {
      "cell_type": "code",
      "metadata": {
        "colab": {
          "base_uri": "https://localhost:8080/",
          "height": 354
        },
        "cellView": "form",
        "id": "xm6xYJYH0F_f",
        "outputId": "4968db44-31cf-47d9-9138-1167dbf4f6b8"
      },
      "source": [
        "#@title \n",
        "\n",
        "\n",
        "print('1) Tamanho do Vocabulário .............................. ', len(zipf_table))\n",
        "print('2) Média da frequência com todas as palavras ........... ', round(zipf_table['frequency'].mean()))\n",
        "print('3) Quantidade de palavras com 1 citação ................ ', len(zipf_table.loc[zipf_table['frequency'] == 1]))\n",
        "print('4) Porcentagem de palavras com 1 citação ............... ', str(round(len(zipf_table.loc[zipf_table['frequency'] == 1])/len(zipf_table), 4)*100)+'%')\n",
        "print('5) Média da frequência sem palavras únicas ............. ', round(zipf_table['frequency'].loc[zipf_table['frequency'] != 1].mean()))\n",
        "print('6) Quantidade de palavras com mais de 3500 citações .... ', len(zipf_table.loc[zipf_table['frequency'] >= 3500]))\n",
        "print('7) Porcentagem de palavras com mais de 3500 citações ... ', str(round(len(zipf_table.loc[zipf_table['frequency'] >= 3500])/len(zipf_table), 4)*100)+'%')\n",
        "\n",
        "zipf_table.head(6)"
      ],
      "execution_count": 9,
      "outputs": [
        {
          "output_type": "stream",
          "text": [
            "1) Tamanho do Vocabulário ..............................  30956\n",
            "2) Média da frequência com todas as palavras ...........  26\n",
            "3) Quantidade de palavras com 1 citação ................  11208\n",
            "4) Porcentagem de palavras com 1 citação ...............  36.21%\n",
            "5) Média da frequência sem palavras únicas .............  40\n",
            "6) Quantidade de palavras com mais de 3500 citações ....  10\n",
            "7) Porcentagem de palavras com mais de 3500 citações ...  0.03%\n"
          ],
          "name": "stdout"
        },
        {
          "output_type": "execute_result",
          "data": {
            "text/html": [
              "<div>\n",
              "<style scoped>\n",
              "    .dataframe tbody tr th:only-of-type {\n",
              "        vertical-align: middle;\n",
              "    }\n",
              "\n",
              "    .dataframe tbody tr th {\n",
              "        vertical-align: top;\n",
              "    }\n",
              "\n",
              "    .dataframe thead th {\n",
              "        text-align: right;\n",
              "    }\n",
              "</style>\n",
              "<table border=\"1\" class=\"dataframe\">\n",
              "  <thead>\n",
              "    <tr style=\"text-align: right;\">\n",
              "      <th></th>\n",
              "      <th>rank</th>\n",
              "      <th>word</th>\n",
              "      <th>frequency</th>\n",
              "    </tr>\n",
              "  </thead>\n",
              "  <tbody>\n",
              "    <tr>\n",
              "      <th>0</th>\n",
              "      <td>1</td>\n",
              "      <td>sr</td>\n",
              "      <td>16839</td>\n",
              "    </tr>\n",
              "    <tr>\n",
              "      <th>1</th>\n",
              "      <td>2</td>\n",
              "      <td>governo</td>\n",
              "      <td>5814</td>\n",
              "    </tr>\n",
              "    <tr>\n",
              "      <th>2</th>\n",
              "      <td>3</td>\n",
              "      <td>srs</td>\n",
              "      <td>4851</td>\n",
              "    </tr>\n",
              "    <tr>\n",
              "      <th>3</th>\n",
              "      <td>4</td>\n",
              "      <td>Presidente</td>\n",
              "      <td>4811</td>\n",
              "    </tr>\n",
              "    <tr>\n",
              "      <th>4</th>\n",
              "      <td>5</td>\n",
              "      <td>deputado</td>\n",
              "      <td>4718</td>\n",
              "    </tr>\n",
              "    <tr>\n",
              "      <th>5</th>\n",
              "      <td>6</td>\n",
              "      <td>deputados</td>\n",
              "      <td>4617</td>\n",
              "    </tr>\n",
              "  </tbody>\n",
              "</table>\n",
              "</div>"
            ],
            "text/plain": [
              "   rank        word  frequency\n",
              "0     1          sr      16839\n",
              "1     2     governo       5814\n",
              "2     3         srs       4851\n",
              "3     4  Presidente       4811\n",
              "4     5    deputado       4718\n",
              "5     6   deputados       4617"
            ]
          },
          "metadata": {
            "tags": []
          },
          "execution_count": 9
        }
      ]
    },
    {
      "cell_type": "markdown",
      "metadata": {
        "id": "1-pjYunZ0DUJ"
      },
      "source": [
        "Vamos criar então nossa lista de *stopwords* personalizada e filtrar os nossos *tokens*, não podemos esquecer de fazer esse processo também com o nosso *dataset*, vamos ainda usar essa parte para incluir algumas correções para algumas falhas que surgiram no processo de *tokenização*, por exemplo temos um *token* `n` com uma quantidade razoável de aparições que provavelmente surgiu após removermos o símbolo em `n°`.\n",
        "\n",
        "`create_stopwordslist`: Função serve apenas para carregar as *stopwords* personalizadas e organizar em que parte do código isso está sendo feito.\n",
        "<br><br>\n",
        "`clean_my_tokens`: Está função pega apenas os *tokens* que não estão na lista de *stopwords*, vale ressaltar que como essa função demora um tempo considerável para rodar foi criado um arquivo de *checkpoint*, então o programa vai sempre tentar carregar esse arquivo feito (muito mais rápido) caso esse arquivo exista."
      ]
    },
    {
      "cell_type": "code",
      "metadata": {
        "id": "nuS545z7m9LK"
      },
      "source": [
        "def create_stopwordslist(zipf_table):\n",
        "    # Palavras com apenas 1 aparição\n",
        "    frequency_1_tokens = list(set(zipf_table['word'].loc[zipf_table['frequency'] == 1].to_list()))\n",
        "\n",
        "    # Tokens com apenas 1 caractere\n",
        "    len_1_tokens = ['t', 's', 'á', 'l', 'v', 'm', 'p', 'b', '¾', 'g', 'n', 'i', 'h', 'f', 'x', 'r', 'ó', 'c', 'd']\n",
        "\n",
        "    # Lista de Stopwords customizada\n",
        "    custom_stopwords = [\n",
        "        'sr',\n",
        "        'sra',\n",
        "        'srs',\n",
        "        'sras',\n",
        "        'ser',\n",
        "        'governo',\n",
        "        'estado',\n",
        "        'deputado',\n",
        "        'deputada',\n",
        "        'deputados',\n",
        "        'deputadas',\n",
        "        'Presidente',\n",
        "        'presidente',\n",
        "        'xiv',\n",
        "    ]\n",
        "\n",
        "    new_stopwords = frequency_1_tokens + len_1_tokens + custom_stopwords\n",
        "\n",
        "    return new_stopwords\n",
        "\n",
        "def clean_my_tokens(tokens, stopwords):\n",
        "    #Checa se tem o arquivo de tokens limpos\n",
        "    if os.path.isfile('clean_tokens.pkl'):\n",
        "        with open('clean_tokens.pkl', 'rb') as f:\n",
        "            clean_tokens = pickle.load(f)\n",
        "    #Limpa os tokens e salva em arquivo --> Demorado\n",
        "    else:\n",
        "        clean_tokens = [w for w in clean_words if w not in stopwords]\n",
        "        with open('clean_tokens.pkl', 'wb') as f:\n",
        "            pickle.dump(clean_tokens, f)\n",
        "    \n",
        "    return clean_tokens\n",
        "\n",
        "def clean_my_df(df_tokens, stopwords=nltk.corpus.stopwords.words('portuguese')+create_stopwordslist(zipf_table)):\n",
        "    return [token for token in df_tokens if token not in stopwords]\n",
        "\n",
        "def load_clean_df(citations, stopwords):\n",
        "    if os.path.isfile('clean_df.pkl'):\n",
        "        with open('clean_df.pkl', 'rb') as f:\n",
        "            citations = pickle.load(f)\n",
        "    #Limpa os tokens e salva em arquivo --> Demorado\n",
        "    else:\n",
        "        citations['Clean_Tokens'] = citations['Tokenized_Text'].apply(clean_my_df)\n",
        "        with open('clean_df.pkl', 'wb') as f:\n",
        "            pickle.dump(citations, f)\n",
        "    return citations\n",
        "\n",
        "new_stopwords = create_stopwordslist(zipf_table)\n",
        "clean_tokens = clean_my_tokens(clean_words, new_stopwords)\n",
        "minutes = load_clean_df(minutes, stopwords+new_stopwords)"
      ],
      "execution_count": 10,
      "outputs": []
    },
    {
      "cell_type": "markdown",
      "metadata": {
        "id": "g9kyMrctdMz_"
      },
      "source": [
        "# **Lematização**\n",
        "\n",
        "---\n",
        "\n",
        "Essa etapa se trata de uma simplificação lexical do texto, as palavras se apresentam em diversas formas diferentes em flexões de gênero, número e tempo; nesse sentido a lematização entra para aglutinar várias dessas formas em um único *token* que corresponde ao modo infinitivo no caso de verbos e do masculino singular para o caso de substantivos e adjetivos.\n",
        "\n",
        "Para isso usaremos a biblioteca `spaCy` que contém uma função de lematizador para português:\n",
        "\n",
        "`normalize_my_tokens`: Retorna os lemmas das palavras.\n"
      ]
    },
    {
      "cell_type": "code",
      "metadata": {
        "id": "ik1sUqas_2W-"
      },
      "source": [
        "nlp = spacy.load('pt_core_news_lg', exclude=['attribute_ruler', 'tok2vec', 'morphologizer',\n",
        "                                             'parser', 'senter', 'ner', 'attribute_ruler'])\n",
        "\n",
        "nlp.max_length = 6136000\n",
        "\n",
        "def normalize_my_tokens(clean_tokens):\n",
        "    if os.path.isfile('normalized_tokens.pkl'):\n",
        "        with open('normalized_tokens.pkl', 'rb') as f:\n",
        "            normalized_tokens = pickle.load(f)\n",
        "\n",
        "    else:\n",
        "        meaningful_string = ' '.join(clean_tokens)\n",
        "        spacy_object = nlp(meaningful_string)\n",
        "        normalized_tokens = [token.lemma_ for token in spacy_object]\n",
        "        with open('normalized_tokens.pkl', 'wb') as f:\n",
        "            pickle.dump(normalized_tokens, f)\n",
        "    \n",
        "    return normalized_tokens\n",
        "\n",
        "def normalize_my_df(df_tokens):\n",
        "    meaningful_string = ' '.join(df_tokens)\n",
        "    spacy_object = nlp(meaningful_string)\n",
        "    normalized_tokens = [token.lemma_ for token in spacy_object]\n",
        "    return normalized_tokens\n",
        "\n",
        "def load_normalized_df(citations):\n",
        "    if os.path.isfile('normalized_df.pkl'):\n",
        "        with open('normalized_df.pkl', 'rb') as f:\n",
        "            citations = pickle.load(f)\n",
        "    else:\n",
        "        citations['Normalized_Tokens'] = citations['Clean_Tokens'].apply(normalize_my_df)\n",
        "        with open('normalized_df.pkl', 'wb') as f:\n",
        "            pickle.dump(citations, f)\n",
        "    return citations\n",
        "  \n",
        "normalized_tokens = normalize_my_tokens(clean_tokens)\n",
        "minutes = load_normalized_df(minutes)"
      ],
      "execution_count": 11,
      "outputs": []
    },
    {
      "cell_type": "markdown",
      "metadata": {
        "id": "KhSclvOsl8r-"
      },
      "source": [
        "---\n",
        "---\n",
        "---\n",
        "---\n",
        "---"
      ]
    },
    {
      "cell_type": "markdown",
      "metadata": {
        "id": "7kHF5xULvClb"
      },
      "source": [
        "# Doc2Vec\n",
        "\n",
        "Nessa etapa vamos fazer o Embedding, não de palavras mas de toda uma fala \n",
        "\n",
        "--> Melhorar"
      ]
    },
    {
      "cell_type": "code",
      "metadata": {
        "colab": {
          "base_uri": "https://localhost:8080/"
        },
        "id": "YUKlgcNc-5h9",
        "outputId": "8629b15b-c56b-4955-ddaf-559504016008"
      },
      "source": [
        "len(set(normalized_tokens))"
      ],
      "execution_count": 12,
      "outputs": [
        {
          "output_type": "execute_result",
          "data": {
            "text/plain": [
              "9637"
            ]
          },
          "metadata": {
            "tags": []
          },
          "execution_count": 12
        }
      ]
    },
    {
      "cell_type": "code",
      "metadata": {
        "colab": {
          "base_uri": "https://localhost:8080/",
          "height": 669
        },
        "id": "DRJ27_zoKjND",
        "outputId": "c07c5c1f-526b-41e7-a931-f5ff2364e1e4"
      },
      "source": [
        "rank = create_zipf_table(normalized_tokens)\n",
        "rank.head(20)"
      ],
      "execution_count": 13,
      "outputs": [
        {
          "output_type": "execute_result",
          "data": {
            "text/html": [
              "<div>\n",
              "<style scoped>\n",
              "    .dataframe tbody tr th:only-of-type {\n",
              "        vertical-align: middle;\n",
              "    }\n",
              "\n",
              "    .dataframe tbody tr th {\n",
              "        vertical-align: top;\n",
              "    }\n",
              "\n",
              "    .dataframe thead th {\n",
              "        text-align: right;\n",
              "    }\n",
              "</style>\n",
              "<table border=\"1\" class=\"dataframe\">\n",
              "  <thead>\n",
              "    <tr style=\"text-align: right;\">\n",
              "      <th></th>\n",
              "      <th>rank</th>\n",
              "      <th>word</th>\n",
              "      <th>frequency</th>\n",
              "    </tr>\n",
              "  </thead>\n",
              "  <tbody>\n",
              "    <tr>\n",
              "      <th>0</th>\n",
              "      <td>1</td>\n",
              "      <td>fazer</td>\n",
              "      <td>6059</td>\n",
              "    </tr>\n",
              "    <tr>\n",
              "      <th>1</th>\n",
              "      <td>2</td>\n",
              "      <td>poder</td>\n",
              "      <td>5885</td>\n",
              "    </tr>\n",
              "    <tr>\n",
              "      <th>2</th>\n",
              "      <td>3</td>\n",
              "      <td>todo</td>\n",
              "      <td>5378</td>\n",
              "    </tr>\n",
              "    <tr>\n",
              "      <th>3</th>\n",
              "      <td>4</td>\n",
              "      <td>ter</td>\n",
              "      <td>5288</td>\n",
              "    </tr>\n",
              "    <tr>\n",
              "      <th>4</th>\n",
              "      <td>5</td>\n",
              "      <td>dizer</td>\n",
              "      <td>4626</td>\n",
              "    </tr>\n",
              "    <tr>\n",
              "      <th>5</th>\n",
              "      <td>6</td>\n",
              "      <td>dar</td>\n",
              "      <td>4525</td>\n",
              "    </tr>\n",
              "    <tr>\n",
              "      <th>6</th>\n",
              "      <td>7</td>\n",
              "      <td>ir</td>\n",
              "      <td>4439</td>\n",
              "    </tr>\n",
              "    <tr>\n",
              "      <th>7</th>\n",
              "      <td>8</td>\n",
              "      <td>PSD</td>\n",
              "      <td>4153</td>\n",
              "    </tr>\n",
              "    <tr>\n",
              "      <th>8</th>\n",
              "      <td>9</td>\n",
              "      <td>saudar</td>\n",
              "      <td>3702</td>\n",
              "    </tr>\n",
              "    <tr>\n",
              "      <th>9</th>\n",
              "      <td>10</td>\n",
              "      <td>PS</td>\n",
              "      <td>3563</td>\n",
              "    </tr>\n",
              "    <tr>\n",
              "      <th>10</th>\n",
              "      <td>11</td>\n",
              "      <td>partir</td>\n",
              "      <td>3544</td>\n",
              "    </tr>\n",
              "    <tr>\n",
              "      <th>11</th>\n",
              "      <td>12</td>\n",
              "      <td>querer</td>\n",
              "      <td>3396</td>\n",
              "    </tr>\n",
              "    <tr>\n",
              "      <th>12</th>\n",
              "      <td>13</td>\n",
              "      <td>proposto</td>\n",
              "      <td>3343</td>\n",
              "    </tr>\n",
              "    <tr>\n",
              "      <th>13</th>\n",
              "      <td>14</td>\n",
              "      <td>palavra</td>\n",
              "      <td>3336</td>\n",
              "    </tr>\n",
              "    <tr>\n",
              "      <th>14</th>\n",
              "      <td>15</td>\n",
              "      <td>social</td>\n",
              "      <td>3153</td>\n",
              "    </tr>\n",
              "    <tr>\n",
              "      <th>15</th>\n",
              "      <td>16</td>\n",
              "      <td>ano</td>\n",
              "      <td>3116</td>\n",
              "    </tr>\n",
              "    <tr>\n",
              "      <th>16</th>\n",
              "      <td>17</td>\n",
              "      <td>lei</td>\n",
              "      <td>3082</td>\n",
              "    </tr>\n",
              "    <tr>\n",
              "      <th>17</th>\n",
              "      <td>18</td>\n",
              "      <td>porque</td>\n",
              "      <td>3067</td>\n",
              "    </tr>\n",
              "    <tr>\n",
              "      <th>18</th>\n",
              "      <td>19</td>\n",
              "      <td>público</td>\n",
              "      <td>3042</td>\n",
              "    </tr>\n",
              "    <tr>\n",
              "      <th>19</th>\n",
              "      <td>20</td>\n",
              "      <td>sobrar</td>\n",
              "      <td>2897</td>\n",
              "    </tr>\n",
              "  </tbody>\n",
              "</table>\n",
              "</div>"
            ],
            "text/plain": [
              "    rank      word  frequency\n",
              "0      1     fazer       6059\n",
              "1      2     poder       5885\n",
              "2      3      todo       5378\n",
              "3      4       ter       5288\n",
              "4      5     dizer       4626\n",
              "5      6       dar       4525\n",
              "6      7        ir       4439\n",
              "7      8       PSD       4153\n",
              "8      9    saudar       3702\n",
              "9     10        PS       3563\n",
              "10    11    partir       3544\n",
              "11    12    querer       3396\n",
              "12    13  proposto       3343\n",
              "13    14   palavra       3336\n",
              "14    15    social       3153\n",
              "15    16       ano       3116\n",
              "16    17       lei       3082\n",
              "17    18    porque       3067\n",
              "18    19   público       3042\n",
              "19    20    sobrar       2897"
            ]
          },
          "metadata": {
            "tags": []
          },
          "execution_count": 13
        }
      ]
    },
    {
      "cell_type": "code",
      "metadata": {
        "id": "eAERR9gZBOzq"
      },
      "source": [
        "from gensim.test.utils import common_texts\n",
        "from gensim.models.doc2vec import Doc2Vec, TaggedDocument\n",
        "from gensim.models import Word2Vec\n",
        "\n",
        "def create_word2vec_model(df, vector_size=100, window_size=5):\n",
        "    sentences = []\n",
        "    for i in range(len(df)):\n",
        "        sentences.append(df['Normalized_Tokens'][i])\n",
        "    \n",
        "    model = Word2Vec(\n",
        "        sentences=sentences,\n",
        "        size=vector_size,\n",
        "        window=window_size\n",
        "        )\n",
        "    \n",
        "    return model\n",
        "\n",
        "def create_doc2vec_model(df, vector_size=20, window_size=2):\n",
        "    sentences = []\n",
        "    for i in range(len(df)):\n",
        "        sentences.append(df['Normalized_Tokens'][i])\n",
        "\n",
        "    documents = [TaggedDocument(doc, [i]) for i, doc in enumerate(sentences)]\n",
        "    model = Doc2Vec(\n",
        "        documents=documents,\n",
        "        vector_size=vector_size,\n",
        "        window=window_size,\n",
        "    )\n",
        "\n",
        "    return model\n",
        "\n",
        "doc2vec = create_doc2vec_model(minutes)"
      ],
      "execution_count": 14,
      "outputs": []
    },
    {
      "cell_type": "code",
      "metadata": {
        "id": "NPm8iIofNhre"
      },
      "source": [
        "vectors = []\n",
        "for i in range(len(minutes)):\n",
        "    vectors.append(doc2vec.infer_vector(minutes['Normalized_Tokens'][i]))\n",
        "\n",
        "minutes['Vectors'] = pd.Series(vectors)"
      ],
      "execution_count": 15,
      "outputs": []
    },
    {
      "cell_type": "code",
      "metadata": {
        "colab": {
          "base_uri": "https://localhost:8080/",
          "height": 649
        },
        "id": "ZK0uPanFyw76",
        "outputId": "ae7c3239-b815-4966-cdf3-7787d0f7c9a7"
      },
      "source": [
        "minutes.head()"
      ],
      "execution_count": 16,
      "outputs": [
        {
          "output_type": "execute_result",
          "data": {
            "text/html": [
              "<div>\n",
              "<style scoped>\n",
              "    .dataframe tbody tr th:only-of-type {\n",
              "        vertical-align: middle;\n",
              "    }\n",
              "\n",
              "    .dataframe tbody tr th {\n",
              "        vertical-align: top;\n",
              "    }\n",
              "\n",
              "    .dataframe thead th {\n",
              "        text-align: right;\n",
              "    }\n",
              "</style>\n",
              "<table border=\"1\" class=\"dataframe\">\n",
              "  <thead>\n",
              "    <tr style=\"text-align: right;\">\n",
              "      <th></th>\n",
              "      <th>Transcript</th>\n",
              "      <th>Date</th>\n",
              "      <th>Position</th>\n",
              "      <th>Person</th>\n",
              "      <th>Party</th>\n",
              "      <th>Text</th>\n",
              "      <th>Subject</th>\n",
              "      <th>Tokenized_Text</th>\n",
              "      <th>Clean_Tokens</th>\n",
              "      <th>Normalized_Tokens</th>\n",
              "      <th>Vectors</th>\n",
              "    </tr>\n",
              "  </thead>\n",
              "  <tbody>\n",
              "    <tr>\n",
              "      <th>0</th>\n",
              "      <td>DAR-001</td>\n",
              "      <td>17 DE SETEMBRO DE 2020</td>\n",
              "      <td>0</td>\n",
              "      <td>Presidente</td>\n",
              "      <td>NaN</td>\n",
              "      <td>Dirijo um abraço a todos neste regresso dos Pl...</td>\n",
              "      <td>declarações políticas 1</td>\n",
              "      <td>[dirijo, um, abraço, a, todos, neste, regresso...</td>\n",
              "      <td>[dirijo, abraço, todos, neste, regresso, plená...</td>\n",
              "      <td>[dirigir, abraçar, todo, neste, regressar, ple...</td>\n",
              "      <td>[0.121852405, -0.26421618, -0.21224824, 0.0180...</td>\n",
              "    </tr>\n",
              "    <tr>\n",
              "      <th>1</th>\n",
              "      <td>DAR-001</td>\n",
              "      <td>17 DE SETEMBRO DE 2020</td>\n",
              "      <td>1</td>\n",
              "      <td>Secretária</td>\n",
              "      <td>NaN</td>\n",
              "      <td>Sr. Presidente, muito boa tarde a todas e a to...</td>\n",
              "      <td>declarações políticas 1</td>\n",
              "      <td>[sr, Presidente, muito, boa, tarde, a, todas, ...</td>\n",
              "      <td>[boa, tarde, todas, todos, deram, entrada, mes...</td>\n",
              "      <td>[bom, tardar, todo, todo, dar, entrar, mesa, a...</td>\n",
              "      <td>[-0.013632625, -0.20226839, 0.029344337, 0.027...</td>\n",
              "    </tr>\n",
              "    <tr>\n",
              "      <th>2</th>\n",
              "      <td>DAR-001</td>\n",
              "      <td>17 DE SETEMBRO DE 2020</td>\n",
              "      <td>2</td>\n",
              "      <td>Presidente</td>\n",
              "      <td>NaN</td>\n",
              "      <td>Como os Srs. Deputados estão a verificar, o an...</td>\n",
              "      <td>declarações políticas 1</td>\n",
              "      <td>[como, os, srs, deputados, estão, a, verificar...</td>\n",
              "      <td>[verificar, anúncio, expediente, segue, regras...</td>\n",
              "      <td>[verificar, anúncio, expediente, seguir, regra...</td>\n",
              "      <td>[0.09765393, -0.15307216, -0.14467825, 0.00487...</td>\n",
              "    </tr>\n",
              "    <tr>\n",
              "      <th>3</th>\n",
              "      <td>DAR-001</td>\n",
              "      <td>17 DE SETEMBRO DE 2020</td>\n",
              "      <td>3</td>\n",
              "      <td>Secretária</td>\n",
              "      <td>NaN</td>\n",
              "      <td>Sr. Presidente, deram também entrada os Projet...</td>\n",
              "      <td>declarações políticas 1</td>\n",
              "      <td>[sr, Presidente, deram, também, entrada, os, p...</td>\n",
              "      <td>[deram, entrada, projetos, lei, IL, BE, BE, in...</td>\n",
              "      <td>[dar, entrar, projetos, lei, IL, BE, BE, inscr...</td>\n",
              "      <td>[0.039120924, -0.21613131, -0.07539723, -0.026...</td>\n",
              "    </tr>\n",
              "    <tr>\n",
              "      <th>4</th>\n",
              "      <td>DAR-001</td>\n",
              "      <td>17 DE SETEMBRO DE 2020</td>\n",
              "      <td>4</td>\n",
              "      <td>Presidente</td>\n",
              "      <td>NaN</td>\n",
              "      <td>Muito obrigado, Sr.ª Secretária Maria da Luz R...</td>\n",
              "      <td>declarações políticas 2</td>\n",
              "      <td>[muito, obrigado, sr, Secretária, Maria da Luz...</td>\n",
              "      <td>[obrigado, Secretária, Maria da Luz Rosinha, p...</td>\n",
              "      <td>[obrigar, Secretária, Maria, da, Luz, Rosinha,...</td>\n",
              "      <td>[0.02291869, -0.24793299, -0.07499478, 0.02507...</td>\n",
              "    </tr>\n",
              "  </tbody>\n",
              "</table>\n",
              "</div>"
            ],
            "text/plain": [
              "  Transcript  ...                                            Vectors\n",
              "0    DAR-001  ...  [0.121852405, -0.26421618, -0.21224824, 0.0180...\n",
              "1    DAR-001  ...  [-0.013632625, -0.20226839, 0.029344337, 0.027...\n",
              "2    DAR-001  ...  [0.09765393, -0.15307216, -0.14467825, 0.00487...\n",
              "3    DAR-001  ...  [0.039120924, -0.21613131, -0.07539723, -0.026...\n",
              "4    DAR-001  ...  [0.02291869, -0.24793299, -0.07499478, 0.02507...\n",
              "\n",
              "[5 rows x 11 columns]"
            ]
          },
          "metadata": {
            "tags": []
          },
          "execution_count": 16
        }
      ]
    },
    {
      "cell_type": "code",
      "metadata": {
        "colab": {
          "base_uri": "https://localhost:8080/"
        },
        "id": "7KP1dW5iKalA",
        "outputId": "c2dfe6ee-9ab1-42db-d838-c63fa1095962"
      },
      "source": [
        "print('Original: ....... ', minutes['Text'][0], '\\n')\n",
        "print('Tokens: ......... ', minutes['Tokenized_Text'][0], '\\n')\n",
        "print('Clean Tokens: ... ', minutes['Clean_Tokens'][0], '\\n')\n",
        "print('Normalized: ..... ', minutes['Normalized_Tokens'][0], '\\n')\n",
        "print('Vectors: ........ ', minutes['Vectors'][0], '\\n')\n"
      ],
      "execution_count": 17,
      "outputs": [
        {
          "output_type": "stream",
          "text": [
            "Original: .......  Dirijo um abraço a todos neste regresso dos Plenários à Casa da democracia. Esperávamos que nesta altura já pudéssemos ter regras mais flexíveis, mas, infelizmente, os números e as consequências concretas não nos permitem tal, e, portanto, continuamos, no essencial, com as regras que presidiram aos últimos Plenários da 1.ª Sessão Legislativa. Srs. Deputados, da nossa ordem do dia constam declarações políticas. Porém, antes disso, a Sr.ª Secretária Maria da Luz Rosinha fará o favor de anunciar a entrada de algumas iniciativas. Tem a palavra, Sr.ª Secretária. \n",
            "\n",
            "Tokens: .........  ['dirijo', 'um', 'abraço', 'a', 'todos', 'neste', 'regresso', 'dos', 'plenários', 'à', 'casa', 'da', 'democracia', 'esperávamos', 'que', 'nesta', 'altura', 'já', 'pudéssemos', 'ter', 'regras', 'mais', 'flexíveis', 'mas', 'infelizmente', 'os', 'números', 'e', 'as', 'consequências', 'concretas', 'não', 'nos', 'permitem', 'tal', 'e', 'portanto', 'continuamos', 'no', 'essencial', 'com', 'as', 'regras', 'que', 'presidiram', 'aos', 'últimos', 'plenários', 'da', 'sessão', 'legislativa', 'srs', 'deputados', 'da', 'nossa', 'ordem', 'do', 'dia', 'constam', 'declarações', 'políticas', 'porém', 'antes', 'disso', 'a', 'sr', 'Secretária', 'Maria da Luz Rosinha', 'fará', 'o', 'favor', 'de', 'anunciar', 'a', 'entrada', 'de', 'algumas', 'iniciativas', 'tem', 'a', 'palavra', 'sr', 'Secretária'] \n",
            "\n",
            "Clean Tokens: ...  ['dirijo', 'abraço', 'todos', 'neste', 'regresso', 'plenários', 'casa', 'democracia', 'esperávamos', 'nesta', 'altura', 'pudéssemos', 'ter', 'regras', 'flexíveis', 'infelizmente', 'números', 'consequências', 'concretas', 'permitem', 'tal', 'portanto', 'continuamos', 'essencial', 'regras', 'últimos', 'plenários', 'sessão', 'legislativa', 'ordem', 'dia', 'constam', 'declarações', 'políticas', 'porém', 'antes', 'disso', 'Secretária', 'Maria da Luz Rosinha', 'fará', 'favor', 'anunciar', 'entrada', 'algumas', 'iniciativas', 'palavra', 'Secretária'] \n",
            "\n",
            "Normalized: .....  ['dirigir', 'abraçar', 'todo', 'neste', 'regressar', 'plenário', 'casar', 'democracia', 'esperar', 'nesta', 'altura', 'poder', 'ter', 'regrar', 'flexível', 'infelizmente', 'número', 'consequência', 'concreto', 'permitir', 'tal', 'portanto', 'continuar', 'essencial', 'regrar', 'último', 'plenário', 'sessão', 'legislativo', 'ordem', 'dia', 'constar', 'declaração', 'político', 'porém', 'antar', 'disso', 'Secretária', 'Maria', 'da', 'Luz', 'Rosinha', 'fazer', 'favor', 'anunciar', 'entrar', 'algum', 'iniciativo', 'palavra', 'Secretária'] \n",
            "\n",
            "Vectors: ........  [ 0.12185241 -0.26421618 -0.21224824  0.0180491   0.2575783   0.22945316\n",
            "  0.07579564 -0.06276476  0.00821483 -0.03870374 -0.09338833  0.00827862\n",
            " -0.08138993  0.25894174 -0.08651516  0.19413902  0.25297317 -0.05175395\n",
            " -0.00221213 -0.06613651] \n",
            "\n"
          ],
          "name": "stdout"
        }
      ]
    },
    {
      "cell_type": "code",
      "metadata": {
        "id": "0ogC37xSsNuF"
      },
      "source": [
        "with open('Vectorized_Dataframe.pkl', 'wb') as f:\n",
        "    pickle.dump(minutes, f)"
      ],
      "execution_count": 19,
      "outputs": []
    }
  ]
}