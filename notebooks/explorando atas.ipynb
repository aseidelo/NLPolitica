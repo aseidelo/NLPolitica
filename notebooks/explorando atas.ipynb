{
 "cells": [
  {
   "cell_type": "code",
   "execution_count": 18,
   "metadata": {},
   "outputs": [],
   "source": [
    "import re"
   ]
  },
  {
   "cell_type": "code",
   "execution_count": 9,
   "metadata": {},
   "outputs": [],
   "source": [
    "path = 'atas_assembleia-pt/txt2/'\n",
    "files = [\"DAR-001.txt\",\n",
    "        \"DAR-005.txt\",\n",
    "        \"DAR-009.txt\",\n",
    "        \"DAR-013.txt\",\n",
    "        \"DAR-017.txt\",\n",
    "        \"DAR-021.txt\",\n",
    "        \"DAR-025.txt\",\n",
    "        \"DAR-002.txt\",\n",
    "        \"DAR-006.txt\",\n",
    "        \"DAR-010.txt\",\n",
    "        \"DAR-014.txt\",\n",
    "        \"DAR-018.txt\",\n",
    "        \"DAR-022.txt\",\n",
    "        \"DAR-026.txt\",\n",
    "        \"DAR-003.txt\",\n",
    "        \"DAR-007.txt\",\n",
    "        \"DAR-011.txt\",\n",
    "        \"DAR-015.txt\",\n",
    "        \"DAR-019.txt\",\n",
    "        \"DAR-023.txt\",\n",
    "        \"DAR-004.txt\",\n",
    "        \"DAR-008.txt\",\n",
    "        \"DAR-012.txt\",\n",
    "        \"DAR-016.txt\",\n",
    "        \"DAR-020.txt\",\n",
    "        \"DAR-024.txt\"]\n"
   ]
  },
  {
   "cell_type": "code",
   "execution_count": 28,
   "metadata": {},
   "outputs": [
    {
     "name": "stdout",
     "output_type": "stream",
     "text": [
      "None\n",
      "None\n",
      "None\n",
      "None\n",
      "None\n",
      "None\n",
      "None\n",
      "None\n",
      "None\n",
      "None\n",
      "None\n",
      "None\n",
      "None\n",
      "None\n",
      "None\n",
      "None\n",
      "None\n",
      "None\n",
      "None\n",
      "None\n",
      "None\n",
      "None\n",
      "None\n",
      "None\n",
      "None\n",
      "None\n"
     ]
    }
   ],
   "source": [
    "def find_word(word):\n",
    "    for file_name in files:\n",
    "        with open(path+file_name, 'r') as file:\n",
    "            sentences = []\n",
    "            buffer = \"\"\n",
    "            for line in file:\n",
    "                sentence = line.rstrip(\" \\n\\r\")\n",
    "                if sentence is not \"\":\n",
    "                    buffer = buffer + sentence + '\\n'\n",
    "            #print(buffer)\n",
    "            x = re.search(\"^O Sr.*\", buffer)\n",
    "            print(x)\n",
    "find_word(\"oi\")"
   ]
  },
  {
   "cell_type": "code",
   "execution_count": 4,
   "metadata": {},
   "outputs": [
    {
     "data": {
      "text/plain": [
       "True"
      ]
     },
     "execution_count": 4,
     "metadata": {},
     "output_type": "execute_result"
    }
   ],
   "source": []
  },
  {
   "cell_type": "code",
   "execution_count": null,
   "metadata": {},
   "outputs": [],
   "source": []
  }
 ],
 "metadata": {
  "kernelspec": {
   "display_name": "Python 3",
   "language": "python",
   "name": "python3"
  },
  "language_info": {
   "codemirror_mode": {
    "name": "ipython",
    "version": 3
   },
   "file_extension": ".py",
   "mimetype": "text/x-python",
   "name": "python",
   "nbconvert_exporter": "python",
   "pygments_lexer": "ipython3",
   "version": "3.6.9"
  }
 },
 "nbformat": 4,
 "nbformat_minor": 4
}
