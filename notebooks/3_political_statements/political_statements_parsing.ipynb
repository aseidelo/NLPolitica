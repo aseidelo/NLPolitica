{
 "cells": [
  {
   "cell_type": "code",
   "execution_count": 9,
   "id": "84d0440a-1de0-4934-a031-b8671bef594a",
   "metadata": {},
   "outputs": [],
   "source": [
    "import sys\n",
    "sys.path.append('../../src/political_statements')\n",
    "import political_statements_parsing"
   ]
  },
  {
   "cell_type": "markdown",
   "id": "dea35894-5b6b-4d8d-a46e-a4248969c757",
   "metadata": {},
   "source": [
    "### 1. INPUT\n",
    "\n",
    "`dialog_lines_with_discussion_topic_EXAMPLE.xlsx` : "
   ]
  },
  {
   "cell_type": "code",
   "execution_count": null,
   "id": "99b12455-c743-426e-a9b8-8e4915e8d0cd",
   "metadata": {},
   "outputs": [],
   "source": [
    "data_path = '../data/'\n",
    "dialogs_file = 'dialog_lines_with_discussion_topic_EXAMPLE.xlsx'\n",
    "dialogs = pd.read_excel(data_path+dialogs_file)"
   ]
  },
  {
   "cell_type": "markdown",
   "id": "8febc111-fd7e-4d66-9f44-48c504ac060d",
   "metadata": {},
   "source": [
    "### 2. Dialogs parsing\n",
    "Change Subject column where field name is 'Declarações políticas' (political declarations). Infer dialog clusters that belongs to the same discussion theme."
   ]
  },
  {
   "cell_type": "code",
   "execution_count": 10,
   "id": "fd8505b4-4a8e-4882-b10d-4b90f6debe19",
   "metadata": {},
   "outputs": [
    {
     "ename": "NameError",
     "evalue": "name 'dialogs' is not defined",
     "output_type": "error",
     "traceback": [
      "\u001b[0;31m---------------------------------------------------------------------------\u001b[0m",
      "\u001b[0;31mNameError\u001b[0m                                 Traceback (most recent call last)",
      "\u001b[0;32m<ipython-input-10-2880d83e9569>\u001b[0m in \u001b[0;36m<module>\u001b[0;34m\u001b[0m\n\u001b[0;32m----> 1\u001b[0;31m \u001b[0mpolitical_statements_parsing\u001b[0m\u001b[0;34m(\u001b[0m\u001b[0mdialogs\u001b[0m\u001b[0;34m)\u001b[0m\u001b[0;34m\u001b[0m\u001b[0;34m\u001b[0m\u001b[0m\n\u001b[0m",
      "\u001b[0;31mNameError\u001b[0m: name 'dialogs' is not defined"
     ]
    }
   ],
   "source": [
    "political_statements_parsing(dialogs)"
   ]
  },
  {
   "cell_type": "markdown",
   "id": "9a9eef8a-35b3-4423-8dc6-b8485feb559f",
   "metadata": {},
   "source": [
    "### 3. Output\n",
    "Output description"
   ]
  },
  {
   "cell_type": "code",
   "execution_count": null,
   "id": "092b3818-23c7-4fa8-aa38-3d2790c5f005",
   "metadata": {},
   "outputs": [],
   "source": [
    "dialogs.to_excel('output.xlsx') "
   ]
  }
 ],
 "metadata": {
  "kernelspec": {
   "display_name": "Python 3",
   "language": "python",
   "name": "python3"
  },
  "language_info": {
   "codemirror_mode": {
    "name": "ipython",
    "version": 3
   },
   "file_extension": ".py",
   "mimetype": "text/x-python",
   "name": "python",
   "nbconvert_exporter": "python",
   "pygments_lexer": "ipython3",
   "version": "3.8.5"
  }
 },
 "nbformat": 4,
 "nbformat_minor": 5
}
